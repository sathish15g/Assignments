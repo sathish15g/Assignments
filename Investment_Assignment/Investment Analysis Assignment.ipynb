{
 "cells": [
  {
   "cell_type": "markdown",
   "id": "5b019a6e",
   "metadata": {},
   "source": [
    "# INVESTMENT ASSIGNMENT SUBMISSION \n",
    "\n",
    "# Name : Sathish Kumar G"
   ]
  },
  {
   "cell_type": "markdown",
   "id": "628c86f3",
   "metadata": {},
   "source": [
    "##### Project Brief\n",
    "we work for Spark Funds, an asset management company. Spark Funds wants to make investments in a few companies. The CEO of Spark Funds wants to understand the global trends in investments so that she can take the investment decisions effectively.\n",
    "\n",
    "\n",
    "#### Business and Data Understanding\n",
    "Spark Funds has two minor constraints for investments:\n",
    "\n",
    " 1. It wants to invest between 5 to 15 million USD per round of investment\n",
    "\n",
    " 2. It wants to invest only in English-speaking countries because of the ease of communication with the companies it would invest in\n",
    "\n",
    "\n",
    "#### Business objective:\n",
    "    \n",
    "  The objective is to identify the best sectors, countries, and a suitable investment type for making investments. The overall strategy is to invest where others are investing, implying that the 'best' sectors and countries are the ones 'where most investors are investing'.\n",
    "    \n",
    "#### Goals of data analysis:\n",
    "Our goals are divided into three sub-goals:\n",
    "\n",
    "###### Investment type analysis: \n",
    "Comparing the typical investment amounts in the venture, seed, angel, private equity etc. so that Spark Funds can choose the type that is best suited for their strategy.\n",
    "\n",
    "##### Country analysis:\n",
    "Identifying the countries which have been the most heavily invested in the past. These will be Spark Funds’ favourites as well.\n",
    "\n",
    "##### Sector analysis:\n",
    "Understanding the distribution of investments across the eight main sectors. (Note that we are interested in the eight 'main sectors' provided in the mapping file. The two files — companies and rounds2 — have numerous sub-sector names; hence, you will need to map each sub-sector to its main sector.)"
   ]
  },
  {
   "cell_type": "code",
   "execution_count": 1,
   "id": "a765bbb9",
   "metadata": {},
   "outputs": [],
   "source": [
    "#import libraries required\n",
    "import pandas as pd\n",
    "import numpy as np\n",
    "import seaborn as sns\n",
    "import matplotlib as mpl\n",
    "import matplotlib.pyplot as plt"
   ]
  },
  {
   "cell_type": "markdown",
   "id": "ace03ebf",
   "metadata": {},
   "source": [
    "### Checkpoint 1: Data Cleaning 1"
   ]
  },
  {
   "cell_type": "code",
   "execution_count": 2,
   "id": "2f84b64e",
   "metadata": {},
   "outputs": [],
   "source": [
    "companies= pd.read_csv('companies.csv')\n",
    "rounds2 = pd.read_csv('rounds2.csv')"
   ]
  },
  {
   "cell_type": "code",
   "execution_count": 3,
   "id": "fa5bfda5",
   "metadata": {
    "scrolled": false
   },
   "outputs": [
    {
     "name": "stdout",
     "output_type": "stream",
     "text": [
      "<class 'pandas.core.frame.DataFrame'>\n",
      "RangeIndex: 66368 entries, 0 to 66367\n",
      "Data columns (total 10 columns):\n",
      " #   Column         Non-Null Count  Dtype \n",
      "---  ------         --------------  ----- \n",
      " 0   permalink      66368 non-null  object\n",
      " 1   name           66367 non-null  object\n",
      " 2   homepage_url   61310 non-null  object\n",
      " 3   category_list  63220 non-null  object\n",
      " 4   status         66368 non-null  object\n",
      " 5   country_code   59410 non-null  object\n",
      " 6   state_code     57821 non-null  object\n",
      " 7   region         58338 non-null  object\n",
      " 8   city           58340 non-null  object\n",
      " 9   founded_at     51147 non-null  object\n",
      "dtypes: object(10)\n",
      "memory usage: 5.1+ MB\n",
      "None\n"
     ]
    },
    {
     "data": {
      "text/html": [
       "<div>\n",
       "<style scoped>\n",
       "    .dataframe tbody tr th:only-of-type {\n",
       "        vertical-align: middle;\n",
       "    }\n",
       "\n",
       "    .dataframe tbody tr th {\n",
       "        vertical-align: top;\n",
       "    }\n",
       "\n",
       "    .dataframe thead th {\n",
       "        text-align: right;\n",
       "    }\n",
       "</style>\n",
       "<table border=\"1\" class=\"dataframe\">\n",
       "  <thead>\n",
       "    <tr style=\"text-align: right;\">\n",
       "      <th></th>\n",
       "      <th>permalink</th>\n",
       "      <th>name</th>\n",
       "      <th>homepage_url</th>\n",
       "      <th>category_list</th>\n",
       "      <th>status</th>\n",
       "      <th>country_code</th>\n",
       "      <th>state_code</th>\n",
       "      <th>region</th>\n",
       "      <th>city</th>\n",
       "      <th>founded_at</th>\n",
       "    </tr>\n",
       "  </thead>\n",
       "  <tbody>\n",
       "    <tr>\n",
       "      <th>0</th>\n",
       "      <td>/Organization/-Fame</td>\n",
       "      <td>#fame</td>\n",
       "      <td>http://livfame.com</td>\n",
       "      <td>Media</td>\n",
       "      <td>operating</td>\n",
       "      <td>IND</td>\n",
       "      <td>16</td>\n",
       "      <td>Mumbai</td>\n",
       "      <td>Mumbai</td>\n",
       "      <td>NaN</td>\n",
       "    </tr>\n",
       "    <tr>\n",
       "      <th>1</th>\n",
       "      <td>/Organization/-Qounter</td>\n",
       "      <td>:Qounter</td>\n",
       "      <td>http://www.qounter.com</td>\n",
       "      <td>Application Platforms|Real Time|Social Network...</td>\n",
       "      <td>operating</td>\n",
       "      <td>USA</td>\n",
       "      <td>DE</td>\n",
       "      <td>DE - Other</td>\n",
       "      <td>Delaware City</td>\n",
       "      <td>04-09-2014</td>\n",
       "    </tr>\n",
       "    <tr>\n",
       "      <th>2</th>\n",
       "      <td>/Organization/-The-One-Of-Them-Inc-</td>\n",
       "      <td>(THE) ONE of THEM,Inc.</td>\n",
       "      <td>http://oneofthem.jp</td>\n",
       "      <td>Apps|Games|Mobile</td>\n",
       "      <td>operating</td>\n",
       "      <td>NaN</td>\n",
       "      <td>NaN</td>\n",
       "      <td>NaN</td>\n",
       "      <td>NaN</td>\n",
       "      <td>NaN</td>\n",
       "    </tr>\n",
       "    <tr>\n",
       "      <th>3</th>\n",
       "      <td>/Organization/0-6-Com</td>\n",
       "      <td>0-6.com</td>\n",
       "      <td>http://www.0-6.com</td>\n",
       "      <td>Curated Web</td>\n",
       "      <td>operating</td>\n",
       "      <td>CHN</td>\n",
       "      <td>22</td>\n",
       "      <td>Beijing</td>\n",
       "      <td>Beijing</td>\n",
       "      <td>01-01-2007</td>\n",
       "    </tr>\n",
       "    <tr>\n",
       "      <th>4</th>\n",
       "      <td>/Organization/004-Technologies</td>\n",
       "      <td>004 Technologies</td>\n",
       "      <td>http://004gmbh.de/en/004-interact</td>\n",
       "      <td>Software</td>\n",
       "      <td>operating</td>\n",
       "      <td>USA</td>\n",
       "      <td>IL</td>\n",
       "      <td>Springfield, Illinois</td>\n",
       "      <td>Champaign</td>\n",
       "      <td>01-01-2010</td>\n",
       "    </tr>\n",
       "  </tbody>\n",
       "</table>\n",
       "</div>"
      ],
      "text/plain": [
       "                             permalink                    name  \\\n",
       "0                  /Organization/-Fame                   #fame   \n",
       "1               /Organization/-Qounter                :Qounter   \n",
       "2  /Organization/-The-One-Of-Them-Inc-  (THE) ONE of THEM,Inc.   \n",
       "3                /Organization/0-6-Com                 0-6.com   \n",
       "4       /Organization/004-Technologies        004 Technologies   \n",
       "\n",
       "                        homepage_url  \\\n",
       "0                 http://livfame.com   \n",
       "1             http://www.qounter.com   \n",
       "2                http://oneofthem.jp   \n",
       "3                 http://www.0-6.com   \n",
       "4  http://004gmbh.de/en/004-interact   \n",
       "\n",
       "                                       category_list     status country_code  \\\n",
       "0                                              Media  operating          IND   \n",
       "1  Application Platforms|Real Time|Social Network...  operating          USA   \n",
       "2                                  Apps|Games|Mobile  operating          NaN   \n",
       "3                                        Curated Web  operating          CHN   \n",
       "4                                           Software  operating          USA   \n",
       "\n",
       "  state_code                 region           city  founded_at  \n",
       "0         16                 Mumbai         Mumbai         NaN  \n",
       "1         DE             DE - Other  Delaware City  04-09-2014  \n",
       "2        NaN                    NaN            NaN         NaN  \n",
       "3         22                Beijing        Beijing  01-01-2007  \n",
       "4         IL  Springfield, Illinois      Champaign  01-01-2010  "
      ]
     },
     "execution_count": 3,
     "metadata": {},
     "output_type": "execute_result"
    }
   ],
   "source": [
    "print(companies.info())\n",
    "companies.head()"
   ]
  },
  {
   "cell_type": "code",
   "execution_count": 4,
   "id": "527f7058",
   "metadata": {
    "scrolled": false
   },
   "outputs": [
    {
     "name": "stdout",
     "output_type": "stream",
     "text": [
      "<class 'pandas.core.frame.DataFrame'>\n",
      "RangeIndex: 114949 entries, 0 to 114948\n",
      "Data columns (total 6 columns):\n",
      " #   Column                   Non-Null Count   Dtype  \n",
      "---  ------                   --------------   -----  \n",
      " 0   company_permalink        114949 non-null  object \n",
      " 1   funding_round_permalink  114949 non-null  object \n",
      " 2   funding_round_type       114949 non-null  object \n",
      " 3   funding_round_code       31140 non-null   object \n",
      " 4   funded_at                114949 non-null  object \n",
      " 5   raised_amount_usd        94959 non-null   float64\n",
      "dtypes: float64(1), object(5)\n",
      "memory usage: 5.3+ MB\n",
      "None\n"
     ]
    },
    {
     "data": {
      "text/html": [
       "<div>\n",
       "<style scoped>\n",
       "    .dataframe tbody tr th:only-of-type {\n",
       "        vertical-align: middle;\n",
       "    }\n",
       "\n",
       "    .dataframe tbody tr th {\n",
       "        vertical-align: top;\n",
       "    }\n",
       "\n",
       "    .dataframe thead th {\n",
       "        text-align: right;\n",
       "    }\n",
       "</style>\n",
       "<table border=\"1\" class=\"dataframe\">\n",
       "  <thead>\n",
       "    <tr style=\"text-align: right;\">\n",
       "      <th></th>\n",
       "      <th>company_permalink</th>\n",
       "      <th>funding_round_permalink</th>\n",
       "      <th>funding_round_type</th>\n",
       "      <th>funding_round_code</th>\n",
       "      <th>funded_at</th>\n",
       "      <th>raised_amount_usd</th>\n",
       "    </tr>\n",
       "  </thead>\n",
       "  <tbody>\n",
       "    <tr>\n",
       "      <th>0</th>\n",
       "      <td>/organization/-fame</td>\n",
       "      <td>/funding-round/9a01d05418af9f794eebff7ace91f638</td>\n",
       "      <td>venture</td>\n",
       "      <td>B</td>\n",
       "      <td>05-01-2015</td>\n",
       "      <td>10000000.0</td>\n",
       "    </tr>\n",
       "    <tr>\n",
       "      <th>1</th>\n",
       "      <td>/ORGANIZATION/-QOUNTER</td>\n",
       "      <td>/funding-round/22dacff496eb7acb2b901dec1dfe5633</td>\n",
       "      <td>venture</td>\n",
       "      <td>A</td>\n",
       "      <td>14-10-2014</td>\n",
       "      <td>NaN</td>\n",
       "    </tr>\n",
       "    <tr>\n",
       "      <th>2</th>\n",
       "      <td>/organization/-qounter</td>\n",
       "      <td>/funding-round/b44fbb94153f6cdef13083530bb48030</td>\n",
       "      <td>seed</td>\n",
       "      <td>NaN</td>\n",
       "      <td>01-03-2014</td>\n",
       "      <td>700000.0</td>\n",
       "    </tr>\n",
       "    <tr>\n",
       "      <th>3</th>\n",
       "      <td>/ORGANIZATION/-THE-ONE-OF-THEM-INC-</td>\n",
       "      <td>/funding-round/650b8f704416801069bb178a1418776b</td>\n",
       "      <td>venture</td>\n",
       "      <td>B</td>\n",
       "      <td>30-01-2014</td>\n",
       "      <td>3406878.0</td>\n",
       "    </tr>\n",
       "    <tr>\n",
       "      <th>4</th>\n",
       "      <td>/organization/0-6-com</td>\n",
       "      <td>/funding-round/5727accaeaa57461bd22a9bdd945382d</td>\n",
       "      <td>venture</td>\n",
       "      <td>A</td>\n",
       "      <td>19-03-2008</td>\n",
       "      <td>2000000.0</td>\n",
       "    </tr>\n",
       "  </tbody>\n",
       "</table>\n",
       "</div>"
      ],
      "text/plain": [
       "                     company_permalink  \\\n",
       "0                  /organization/-fame   \n",
       "1               /ORGANIZATION/-QOUNTER   \n",
       "2               /organization/-qounter   \n",
       "3  /ORGANIZATION/-THE-ONE-OF-THEM-INC-   \n",
       "4                /organization/0-6-com   \n",
       "\n",
       "                           funding_round_permalink funding_round_type  \\\n",
       "0  /funding-round/9a01d05418af9f794eebff7ace91f638            venture   \n",
       "1  /funding-round/22dacff496eb7acb2b901dec1dfe5633            venture   \n",
       "2  /funding-round/b44fbb94153f6cdef13083530bb48030               seed   \n",
       "3  /funding-round/650b8f704416801069bb178a1418776b            venture   \n",
       "4  /funding-round/5727accaeaa57461bd22a9bdd945382d            venture   \n",
       "\n",
       "  funding_round_code   funded_at  raised_amount_usd  \n",
       "0                  B  05-01-2015         10000000.0  \n",
       "1                  A  14-10-2014                NaN  \n",
       "2                NaN  01-03-2014           700000.0  \n",
       "3                  B  30-01-2014          3406878.0  \n",
       "4                  A  19-03-2008          2000000.0  "
      ]
     },
     "execution_count": 4,
     "metadata": {},
     "output_type": "execute_result"
    }
   ],
   "source": [
    "print(rounds2.info())\n",
    "rounds2.head()"
   ]
  },
  {
   "cell_type": "markdown",
   "id": "3dde8a38",
   "metadata": {},
   "source": [
    "###### Here observed some value in \"company permalink\" is mixed with both upper and lower case values, so converting to lower case"
   ]
  },
  {
   "cell_type": "code",
   "execution_count": 5,
   "id": "8bbb3a08",
   "metadata": {
    "scrolled": true
   },
   "outputs": [
    {
     "name": "stdout",
     "output_type": "stream",
     "text": [
      "count                       114949\n",
      "unique                       66373\n",
      "top       /organization/solarflare\n",
      "freq                            19\n",
      "Name: company_permalink, dtype: object\n",
      "count                     66368\n",
      "unique                    66368\n",
      "top       /organization/arisoko\n",
      "freq                          1\n",
      "Name: permalink, dtype: object\n"
     ]
    }
   ],
   "source": [
    "# converted to rounds2.company_permalink and companies.permalink to lower\n",
    "rounds2.company_permalink = rounds2.company_permalink.apply(lambda company_permalink: company_permalink.lower())\n",
    "companies.permalink = companies.permalink.apply(lambda company : company.lower())\n",
    "print(rounds2.company_permalink.describe())\n",
    "print(companies.permalink.describe())"
   ]
  },
  {
   "cell_type": "markdown",
   "id": "fd3b3f75",
   "metadata": {},
   "source": [
    "Also observerd values are encoded, so loaded using encoding = 'iso-8859-1'\n",
    "\n",
    "refered : https://docs.python.org/2.4/lib/standard-encodings.html\n",
    "\n",
    "<p style=\"color:green\">Load the companies and rounds data (provided on the previous page) into two data frames and name them companies and rounds2 respectively.</p>\n"
   ]
  },
  {
   "cell_type": "code",
   "execution_count": 6,
   "id": "c28f6f29",
   "metadata": {},
   "outputs": [],
   "source": [
    "#Load the companies and rounds data (provided on the previous page) into two data frames and name them companies and rounds2 respectively.\n",
    "companies= pd.read_csv('companies.csv',encoding ='iso-8859-1')\n",
    "rounds2 = pd.read_csv('rounds2.csv',encoding ='iso-8859-1')\n",
    "\n",
    "rounds2.company_permalink = rounds2.company_permalink.apply(lambda company_permalink: company_permalink.lower())\n",
    "companies.permalink = companies.permalink.apply(lambda company : company.lower())"
   ]
  },
  {
   "cell_type": "code",
   "execution_count": 7,
   "id": "9d80c563",
   "metadata": {
    "scrolled": false
   },
   "outputs": [
    {
     "data": {
      "text/plain": [
       "count                       114949\n",
       "unique                       66370\n",
       "top       /organization/solarflare\n",
       "freq                            19\n",
       "Name: company_permalink, dtype: object"
      ]
     },
     "execution_count": 7,
     "metadata": {},
     "output_type": "execute_result"
    }
   ],
   "source": [
    "#using describe function to find unique values in rounds2.company_permalink\n",
    "rounds2.company_permalink.describe()"
   ]
  },
  {
   "cell_type": "code",
   "execution_count": 8,
   "id": "416cc9a6",
   "metadata": {
    "scrolled": true
   },
   "outputs": [
    {
     "data": {
      "text/plain": [
       "count                     66368\n",
       "unique                    66368\n",
       "top       /organization/arisoko\n",
       "freq                          1\n",
       "Name: permalink, dtype: object"
      ]
     },
     "execution_count": 8,
     "metadata": {},
     "output_type": "execute_result"
    }
   ],
   "source": [
    "#using describe function to find unique values in companies.permalink\n",
    "companies.permalink.describe()"
   ]
  },
  {
   "cell_type": "code",
   "execution_count": 9,
   "id": "5f1daf9f",
   "metadata": {
    "scrolled": true
   },
   "outputs": [
    {
     "data": {
      "text/html": [
       "<div>\n",
       "<style scoped>\n",
       "    .dataframe tbody tr th:only-of-type {\n",
       "        vertical-align: middle;\n",
       "    }\n",
       "\n",
       "    .dataframe tbody tr th {\n",
       "        vertical-align: top;\n",
       "    }\n",
       "\n",
       "    .dataframe thead th {\n",
       "        text-align: right;\n",
       "    }\n",
       "</style>\n",
       "<table border=\"1\" class=\"dataframe\">\n",
       "  <thead>\n",
       "    <tr style=\"text-align: right;\">\n",
       "      <th></th>\n",
       "      <th>company_permalink</th>\n",
       "      <th>funding_round_permalink</th>\n",
       "      <th>funding_round_type</th>\n",
       "      <th>funding_round_code</th>\n",
       "      <th>funded_at</th>\n",
       "      <th>raised_amount_usd</th>\n",
       "    </tr>\n",
       "  </thead>\n",
       "  <tbody>\n",
       "    <tr>\n",
       "      <th>29597</th>\n",
       "      <td>/organization/e-cãbica</td>\n",
       "      <td>/funding-round/8491f74869e4fe8ba9c378394f8fbdea</td>\n",
       "      <td>seed</td>\n",
       "      <td>NaN</td>\n",
       "      <td>01-02-2015</td>\n",
       "      <td>NaN</td>\n",
       "    </tr>\n",
       "    <tr>\n",
       "      <th>31863</th>\n",
       "      <td>/organization/energystone-games-çµç³æ¸¸æ</td>\n",
       "      <td>/funding-round/b89553f3d2279c5683ae93f45a21cfe0</td>\n",
       "      <td>seed</td>\n",
       "      <td>NaN</td>\n",
       "      <td>09-08-2014</td>\n",
       "      <td>NaN</td>\n",
       "    </tr>\n",
       "    <tr>\n",
       "      <th>45176</th>\n",
       "      <td>/organization/huizuche-com-æ ç§ÿè½¦</td>\n",
       "      <td>/funding-round/8f8a32dbeeb0f831a78702f83af78a36</td>\n",
       "      <td>seed</td>\n",
       "      <td>NaN</td>\n",
       "      <td>18-09-2014</td>\n",
       "      <td>NaN</td>\n",
       "    </tr>\n",
       "    <tr>\n",
       "      <th>58473</th>\n",
       "      <td>/organization/magnet-tech-ç£ç³ç§æ</td>\n",
       "      <td>/funding-round/8fc91fbb32bc95e97f151dd0cb4166bf</td>\n",
       "      <td>seed</td>\n",
       "      <td>NaN</td>\n",
       "      <td>16-08-2014</td>\n",
       "      <td>1625585.0</td>\n",
       "    </tr>\n",
       "    <tr>\n",
       "      <th>101036</th>\n",
       "      <td>/organization/tipcat-interactive-æ²èÿä¿¡æ¯ç...</td>\n",
       "      <td>/funding-round/41005928a1439cb2d706a43cb661f60f</td>\n",
       "      <td>seed</td>\n",
       "      <td>NaN</td>\n",
       "      <td>06-09-2010</td>\n",
       "      <td>NaN</td>\n",
       "    </tr>\n",
       "    <tr>\n",
       "      <th>109969</th>\n",
       "      <td>/organization/weiche-tech-åè½¦ç§æ</td>\n",
       "      <td>/funding-round/f74e457f838b81fa0b29649740f186d8</td>\n",
       "      <td>venture</td>\n",
       "      <td>A</td>\n",
       "      <td>06-09-2015</td>\n",
       "      <td>NaN</td>\n",
       "    </tr>\n",
       "    <tr>\n",
       "      <th>113839</th>\n",
       "      <td>/organization/zengame-ç¦",
       "æ¸¸ç§æ</td>\n",
       "      <td>/funding-round/6ba28fb4f3eadf5a9c6c81bc5dde6cdf</td>\n",
       "      <td>seed</td>\n",
       "      <td>NaN</td>\n",
       "      <td>17-07-2010</td>\n",
       "      <td>NaN</td>\n",
       "    </tr>\n",
       "  </tbody>\n",
       "</table>\n",
       "</div>"
      ],
      "text/plain": [
       "                                        company_permalink  \\\n",
       "29597                             /organization/e-cãbica   \n",
       "31863        /organization/energystone-games-çµç³æ¸¸æ   \n",
       "45176                /organization/huizuche-com-æ ç§ÿè½¦   \n",
       "58473              /organization/magnet-tech-ç£ç³ç§æ   \n",
       "101036  /organization/tipcat-interactive-æ²èÿä¿¡æ¯ç...   \n",
       "109969             /organization/weiche-tech-åè½¦ç§æ   \n",
       "113839                 /organization/zengame-ç¦\n",
       "æ¸¸ç§æ   \n",
       "\n",
       "                                funding_round_permalink funding_round_type  \\\n",
       "29597   /funding-round/8491f74869e4fe8ba9c378394f8fbdea               seed   \n",
       "31863   /funding-round/b89553f3d2279c5683ae93f45a21cfe0               seed   \n",
       "45176   /funding-round/8f8a32dbeeb0f831a78702f83af78a36               seed   \n",
       "58473   /funding-round/8fc91fbb32bc95e97f151dd0cb4166bf               seed   \n",
       "101036  /funding-round/41005928a1439cb2d706a43cb661f60f               seed   \n",
       "109969  /funding-round/f74e457f838b81fa0b29649740f186d8            venture   \n",
       "113839  /funding-round/6ba28fb4f3eadf5a9c6c81bc5dde6cdf               seed   \n",
       "\n",
       "       funding_round_code   funded_at  raised_amount_usd  \n",
       "29597                 NaN  01-02-2015                NaN  \n",
       "31863                 NaN  09-08-2014                NaN  \n",
       "45176                 NaN  18-09-2014                NaN  \n",
       "58473                 NaN  16-08-2014          1625585.0  \n",
       "101036                NaN  06-09-2010                NaN  \n",
       "109969                  A  06-09-2015                NaN  \n",
       "113839                NaN  17-07-2010                NaN  "
      ]
     },
     "execution_count": 9,
     "metadata": {},
     "output_type": "execute_result"
    }
   ],
   "source": [
    "#check difference between rounds2 & comapies using permalink as primary key\n",
    "rounds2.loc[~rounds2.company_permalink.isin(companies.permalink.tolist()),:]"
   ]
  },
  {
   "cell_type": "markdown",
   "id": "51083d66",
   "metadata": {},
   "source": [
    "\n",
    "<p style=\"color:red;\">I was able to find from above output, first record \"/ORGANIZATION/E-C√äBICA\" is in rounds2 and \"/Organization/E-C„öbica\" is in company table also. But still there was some difference, so I tried encode value with utf-8 and decode with ascii</p>\n"
   ]
  },
  {
   "cell_type": "code",
   "execution_count": 10,
   "id": "9b81b9ae",
   "metadata": {},
   "outputs": [],
   "source": [
    "rounds2.company_permalink = rounds2.company_permalink.str.encode('utf-8').str.decode('ascii', 'ignore')\n",
    "companies.permalink = companies.permalink.str.encode('utf-8').str.decode('ascii', 'ignore')"
   ]
  },
  {
   "cell_type": "code",
   "execution_count": 11,
   "id": "ef473094",
   "metadata": {
    "scrolled": false
   },
   "outputs": [
    {
     "data": {
      "text/plain": [
       "count                       114949\n",
       "unique                       66368\n",
       "top       /organization/solarflare\n",
       "freq                            19\n",
       "Name: company_permalink, dtype: object"
      ]
     },
     "execution_count": 11,
     "metadata": {},
     "output_type": "execute_result"
    }
   ],
   "source": [
    "#How many unique companies are present in rounds2?\n",
    "rounds2.company_permalink.describe()"
   ]
  },
  {
   "cell_type": "code",
   "execution_count": 12,
   "id": "b1c40c82",
   "metadata": {
    "scrolled": false
   },
   "outputs": [
    {
     "data": {
      "text/plain": [
       "count                     66368\n",
       "unique                    66368\n",
       "top       /organization/arisoko\n",
       "freq                          1\n",
       "Name: permalink, dtype: object"
      ]
     },
     "execution_count": 12,
     "metadata": {},
     "output_type": "execute_result"
    }
   ],
   "source": [
    "#How many unique companies are present in the companies file?\n",
    "companies.permalink.describe()"
   ]
  },
  {
   "cell_type": "code",
   "execution_count": 13,
   "id": "82ed9f3e",
   "metadata": {
    "scrolled": true
   },
   "outputs": [
    {
     "data": {
      "text/html": [
       "<div>\n",
       "<style scoped>\n",
       "    .dataframe tbody tr th:only-of-type {\n",
       "        vertical-align: middle;\n",
       "    }\n",
       "\n",
       "    .dataframe tbody tr th {\n",
       "        vertical-align: top;\n",
       "    }\n",
       "\n",
       "    .dataframe thead th {\n",
       "        text-align: right;\n",
       "    }\n",
       "</style>\n",
       "<table border=\"1\" class=\"dataframe\">\n",
       "  <thead>\n",
       "    <tr style=\"text-align: right;\">\n",
       "      <th></th>\n",
       "      <th>company_permalink</th>\n",
       "      <th>funding_round_permalink</th>\n",
       "      <th>funding_round_type</th>\n",
       "      <th>funding_round_code</th>\n",
       "      <th>funded_at</th>\n",
       "      <th>raised_amount_usd</th>\n",
       "    </tr>\n",
       "  </thead>\n",
       "  <tbody>\n",
       "  </tbody>\n",
       "</table>\n",
       "</div>"
      ],
      "text/plain": [
       "Empty DataFrame\n",
       "Columns: [company_permalink, funding_round_permalink, funding_round_type, funding_round_code, funded_at, raised_amount_usd]\n",
       "Index: []"
      ]
     },
     "execution_count": 13,
     "metadata": {},
     "output_type": "execute_result"
    }
   ],
   "source": [
    "#Are there any companies in the rounds2 file which are not  present in companies ? \n",
    "rounds2.loc[~rounds2.company_permalink.isin(companies.permalink.tolist()),:]"
   ]
  },
  {
   "cell_type": "code",
   "execution_count": 14,
   "id": "89f056f7",
   "metadata": {},
   "outputs": [],
   "source": [
    "#renaming company column permalink to company_permalink\n",
    "companies = companies.rename(columns= {'permalink': 'company_permalink'},inplace=False)"
   ]
  },
  {
   "cell_type": "code",
   "execution_count": 15,
   "id": "970dd0fe",
   "metadata": {
    "scrolled": false
   },
   "outputs": [
    {
     "name": "stdout",
     "output_type": "stream",
     "text": [
      "<class 'pandas.core.frame.DataFrame'>\n",
      "RangeIndex: 66368 entries, 0 to 66367\n",
      "Data columns (total 10 columns):\n",
      " #   Column             Non-Null Count  Dtype \n",
      "---  ------             --------------  ----- \n",
      " 0   company_permalink  66368 non-null  object\n",
      " 1   name               66367 non-null  object\n",
      " 2   homepage_url       61310 non-null  object\n",
      " 3   category_list      63220 non-null  object\n",
      " 4   status             66368 non-null  object\n",
      " 5   country_code       59410 non-null  object\n",
      " 6   state_code         57821 non-null  object\n",
      " 7   region             58338 non-null  object\n",
      " 8   city               58340 non-null  object\n",
      " 9   founded_at         51147 non-null  object\n",
      "dtypes: object(10)\n",
      "memory usage: 5.1+ MB\n"
     ]
    }
   ],
   "source": [
    "companies.info()"
   ]
  },
  {
   "cell_type": "code",
   "execution_count": 16,
   "id": "8d75b3f9",
   "metadata": {
    "scrolled": true
   },
   "outputs": [
    {
     "data": {
      "text/html": [
       "<div>\n",
       "<style scoped>\n",
       "    .dataframe tbody tr th:only-of-type {\n",
       "        vertical-align: middle;\n",
       "    }\n",
       "\n",
       "    .dataframe tbody tr th {\n",
       "        vertical-align: top;\n",
       "    }\n",
       "\n",
       "    .dataframe thead th {\n",
       "        text-align: right;\n",
       "    }\n",
       "</style>\n",
       "<table border=\"1\" class=\"dataframe\">\n",
       "  <thead>\n",
       "    <tr style=\"text-align: right;\">\n",
       "      <th></th>\n",
       "      <th>company_permalink</th>\n",
       "      <th>funding_round_permalink</th>\n",
       "      <th>funding_round_type</th>\n",
       "      <th>funding_round_code</th>\n",
       "      <th>funded_at</th>\n",
       "      <th>raised_amount_usd</th>\n",
       "      <th>name</th>\n",
       "      <th>homepage_url</th>\n",
       "      <th>category_list</th>\n",
       "      <th>status</th>\n",
       "      <th>country_code</th>\n",
       "      <th>state_code</th>\n",
       "      <th>region</th>\n",
       "      <th>city</th>\n",
       "      <th>founded_at</th>\n",
       "    </tr>\n",
       "  </thead>\n",
       "  <tbody>\n",
       "    <tr>\n",
       "      <th>0</th>\n",
       "      <td>/organization/-fame</td>\n",
       "      <td>/funding-round/9a01d05418af9f794eebff7ace91f638</td>\n",
       "      <td>venture</td>\n",
       "      <td>B</td>\n",
       "      <td>05-01-2015</td>\n",
       "      <td>10000000.0</td>\n",
       "      <td>#fame</td>\n",
       "      <td>http://livfame.com</td>\n",
       "      <td>Media</td>\n",
       "      <td>operating</td>\n",
       "      <td>IND</td>\n",
       "      <td>16</td>\n",
       "      <td>Mumbai</td>\n",
       "      <td>Mumbai</td>\n",
       "      <td>NaN</td>\n",
       "    </tr>\n",
       "    <tr>\n",
       "      <th>1</th>\n",
       "      <td>/organization/-qounter</td>\n",
       "      <td>/funding-round/22dacff496eb7acb2b901dec1dfe5633</td>\n",
       "      <td>venture</td>\n",
       "      <td>A</td>\n",
       "      <td>14-10-2014</td>\n",
       "      <td>NaN</td>\n",
       "      <td>:Qounter</td>\n",
       "      <td>http://www.qounter.com</td>\n",
       "      <td>Application Platforms|Real Time|Social Network...</td>\n",
       "      <td>operating</td>\n",
       "      <td>USA</td>\n",
       "      <td>DE</td>\n",
       "      <td>DE - Other</td>\n",
       "      <td>Delaware City</td>\n",
       "      <td>04-09-2014</td>\n",
       "    </tr>\n",
       "    <tr>\n",
       "      <th>2</th>\n",
       "      <td>/organization/-qounter</td>\n",
       "      <td>/funding-round/b44fbb94153f6cdef13083530bb48030</td>\n",
       "      <td>seed</td>\n",
       "      <td>NaN</td>\n",
       "      <td>01-03-2014</td>\n",
       "      <td>700000.0</td>\n",
       "      <td>:Qounter</td>\n",
       "      <td>http://www.qounter.com</td>\n",
       "      <td>Application Platforms|Real Time|Social Network...</td>\n",
       "      <td>operating</td>\n",
       "      <td>USA</td>\n",
       "      <td>DE</td>\n",
       "      <td>DE - Other</td>\n",
       "      <td>Delaware City</td>\n",
       "      <td>04-09-2014</td>\n",
       "    </tr>\n",
       "    <tr>\n",
       "      <th>3</th>\n",
       "      <td>/organization/-the-one-of-them-inc-</td>\n",
       "      <td>/funding-round/650b8f704416801069bb178a1418776b</td>\n",
       "      <td>venture</td>\n",
       "      <td>B</td>\n",
       "      <td>30-01-2014</td>\n",
       "      <td>3406878.0</td>\n",
       "      <td>(THE) ONE of THEM,Inc.</td>\n",
       "      <td>http://oneofthem.jp</td>\n",
       "      <td>Apps|Games|Mobile</td>\n",
       "      <td>operating</td>\n",
       "      <td>NaN</td>\n",
       "      <td>NaN</td>\n",
       "      <td>NaN</td>\n",
       "      <td>NaN</td>\n",
       "      <td>NaN</td>\n",
       "    </tr>\n",
       "    <tr>\n",
       "      <th>4</th>\n",
       "      <td>/organization/0-6-com</td>\n",
       "      <td>/funding-round/5727accaeaa57461bd22a9bdd945382d</td>\n",
       "      <td>venture</td>\n",
       "      <td>A</td>\n",
       "      <td>19-03-2008</td>\n",
       "      <td>2000000.0</td>\n",
       "      <td>0-6.com</td>\n",
       "      <td>http://www.0-6.com</td>\n",
       "      <td>Curated Web</td>\n",
       "      <td>operating</td>\n",
       "      <td>CHN</td>\n",
       "      <td>22</td>\n",
       "      <td>Beijing</td>\n",
       "      <td>Beijing</td>\n",
       "      <td>01-01-2007</td>\n",
       "    </tr>\n",
       "  </tbody>\n",
       "</table>\n",
       "</div>"
      ],
      "text/plain": [
       "                     company_permalink  \\\n",
       "0                  /organization/-fame   \n",
       "1               /organization/-qounter   \n",
       "2               /organization/-qounter   \n",
       "3  /organization/-the-one-of-them-inc-   \n",
       "4                /organization/0-6-com   \n",
       "\n",
       "                           funding_round_permalink funding_round_type  \\\n",
       "0  /funding-round/9a01d05418af9f794eebff7ace91f638            venture   \n",
       "1  /funding-round/22dacff496eb7acb2b901dec1dfe5633            venture   \n",
       "2  /funding-round/b44fbb94153f6cdef13083530bb48030               seed   \n",
       "3  /funding-round/650b8f704416801069bb178a1418776b            venture   \n",
       "4  /funding-round/5727accaeaa57461bd22a9bdd945382d            venture   \n",
       "\n",
       "  funding_round_code   funded_at  raised_amount_usd                    name  \\\n",
       "0                  B  05-01-2015         10000000.0                   #fame   \n",
       "1                  A  14-10-2014                NaN                :Qounter   \n",
       "2                NaN  01-03-2014           700000.0                :Qounter   \n",
       "3                  B  30-01-2014          3406878.0  (THE) ONE of THEM,Inc.   \n",
       "4                  A  19-03-2008          2000000.0                 0-6.com   \n",
       "\n",
       "             homepage_url                                      category_list  \\\n",
       "0      http://livfame.com                                              Media   \n",
       "1  http://www.qounter.com  Application Platforms|Real Time|Social Network...   \n",
       "2  http://www.qounter.com  Application Platforms|Real Time|Social Network...   \n",
       "3     http://oneofthem.jp                                  Apps|Games|Mobile   \n",
       "4      http://www.0-6.com                                        Curated Web   \n",
       "\n",
       "      status country_code state_code      region           city  founded_at  \n",
       "0  operating          IND         16      Mumbai         Mumbai         NaN  \n",
       "1  operating          USA         DE  DE - Other  Delaware City  04-09-2014  \n",
       "2  operating          USA         DE  DE - Other  Delaware City  04-09-2014  \n",
       "3  operating          NaN        NaN         NaN            NaN         NaN  \n",
       "4  operating          CHN         22     Beijing        Beijing  01-01-2007  "
      ]
     },
     "execution_count": 16,
     "metadata": {},
     "output_type": "execute_result"
    }
   ],
   "source": [
    "#Merge the two data frames so that all  variables (columns)  in the companies frame are added to the rounds2 data frame. Name the merged frame master_frame. How many observations are present in master_frame ?\n",
    "master_frame = pd.merge(rounds2, companies , how='inner', on='company_permalink')\n",
    "master_frame.head()"
   ]
  },
  {
   "cell_type": "code",
   "execution_count": 17,
   "id": "2f650b8a",
   "metadata": {
    "scrolled": false
   },
   "outputs": [
    {
     "name": "stdout",
     "output_type": "stream",
     "text": [
      "<class 'pandas.core.frame.DataFrame'>\n",
      "Int64Index: 114949 entries, 0 to 114948\n",
      "Data columns (total 15 columns):\n",
      " #   Column                   Non-Null Count   Dtype  \n",
      "---  ------                   --------------   -----  \n",
      " 0   company_permalink        114949 non-null  object \n",
      " 1   funding_round_permalink  114949 non-null  object \n",
      " 2   funding_round_type       114949 non-null  object \n",
      " 3   funding_round_code       31140 non-null   object \n",
      " 4   funded_at                114949 non-null  object \n",
      " 5   raised_amount_usd        94959 non-null   float64\n",
      " 6   name                     114948 non-null  object \n",
      " 7   homepage_url             108815 non-null  object \n",
      " 8   category_list            111539 non-null  object \n",
      " 9   status                   114949 non-null  object \n",
      " 10  country_code             106271 non-null  object \n",
      " 11  state_code               104003 non-null  object \n",
      " 12  region                   104782 non-null  object \n",
      " 13  city                     104785 non-null  object \n",
      " 14  founded_at               94428 non-null   object \n",
      "dtypes: float64(1), object(14)\n",
      "memory usage: 14.0+ MB\n"
     ]
    }
   ],
   "source": [
    "#Listing down the columns info after merging\n",
    "master_frame.info()"
   ]
  },
  {
   "cell_type": "markdown",
   "id": "6e432aae",
   "metadata": {},
   "source": [
    "There are 114949 entries in master_frame after merging"
   ]
  },
  {
   "cell_type": "markdown",
   "id": "e6dba5b7",
   "metadata": {},
   "source": [
    "# Treating missing values"
   ]
  },
  {
   "cell_type": "code",
   "execution_count": 18,
   "id": "928cee59",
   "metadata": {
    "scrolled": false
   },
   "outputs": [
    {
     "data": {
      "text/plain": [
       "company_permalink           0.00\n",
       "funding_round_permalink     0.00\n",
       "funding_round_type          0.00\n",
       "funding_round_code         72.91\n",
       "funded_at                   0.00\n",
       "raised_amount_usd          17.39\n",
       "name                        0.00\n",
       "homepage_url                5.34\n",
       "category_list               2.97\n",
       "status                      0.00\n",
       "country_code                7.55\n",
       "state_code                  9.52\n",
       "region                      8.84\n",
       "city                        8.84\n",
       "founded_at                 17.85\n",
       "dtype: float64"
      ]
     },
     "execution_count": 18,
     "metadata": {},
     "output_type": "execute_result"
    }
   ],
   "source": [
    "#calculate percentage of missing value\n",
    "round(100*(master_frame.isnull().sum()/len(master_frame.index)), 2)"
   ]
  },
  {
   "cell_type": "markdown",
   "id": "e66437c5",
   "metadata": {},
   "source": [
    "##### Noticed there are few columns with 72%,17%,5%,2%etc  with missing values \n",
    "\n",
    "\n",
    "\"funding_round_code\" has highest percentage of 72%,it seems most of values are not present. so it better to drop the column since it is not going to affect our analysis for given problem statement.Second highest are founded_at and raised_amount_usd, similarly dropping \"founded_at\" will not affect our analysis, so we will drop that column too, but it is not the same case for raised_amount_us, since it is used most for our analysis. we will remove only the rows that are \"NaN\""
   ]
  },
  {
   "cell_type": "code",
   "execution_count": 19,
   "id": "3d2fa55b",
   "metadata": {
    "scrolled": true
   },
   "outputs": [],
   "source": [
    "#drop rows that contaiin na in \"raised_amount_usd\" and drop column \"funding_round_code\" & \"founded_at\"\n",
    "master_frame = master_frame.dropna(subset=['raised_amount_usd'])\n",
    "master_frame = master_frame.drop('funding_round_code', axis=1)\n",
    "master_frame = master_frame.drop('founded_at', axis=1)"
   ]
  },
  {
   "cell_type": "code",
   "execution_count": 20,
   "id": "99295825",
   "metadata": {
    "scrolled": false
   },
   "outputs": [
    {
     "data": {
      "text/plain": [
       "company_permalink          0.00\n",
       "funding_round_permalink    0.00\n",
       "funding_round_type         0.00\n",
       "funded_at                  0.00\n",
       "raised_amount_usd          0.00\n",
       "name                       0.00\n",
       "homepage_url               4.56\n",
       "category_list              1.10\n",
       "status                     0.00\n",
       "country_code               6.16\n",
       "state_code                 8.01\n",
       "region                     7.42\n",
       "city                       7.42\n",
       "dtype: float64"
      ]
     },
     "execution_count": 20,
     "metadata": {},
     "output_type": "execute_result"
    }
   ],
   "source": [
    "#calculate percentage of missing value\n",
    "round(100*(master_frame.isnull().sum()/len(master_frame.index)), 2)"
   ]
  },
  {
   "cell_type": "markdown",
   "id": "4c3615e7",
   "metadata": {},
   "source": [
    "#### Still there are few columns, here \"category_list\" and \"country_code\" are mainly used during English speaking country analysis and segment anaylsis. so well remove rows with \"NaN\""
   ]
  },
  {
   "cell_type": "code",
   "execution_count": 21,
   "id": "6371f2b1",
   "metadata": {},
   "outputs": [],
   "source": [
    "#drop rows that contaiin na in \"category_list\" and \"country_code\"\n",
    "master_frame = master_frame.dropna(subset=['category_list'])\n",
    "master_frame = master_frame.dropna(subset=['country_code'])"
   ]
  },
  {
   "cell_type": "code",
   "execution_count": 22,
   "id": "c04b6426",
   "metadata": {},
   "outputs": [
    {
     "data": {
      "text/plain": [
       "company_permalink          0.00\n",
       "funding_round_permalink    0.00\n",
       "funding_round_type         0.00\n",
       "funded_at                  0.00\n",
       "raised_amount_usd          0.00\n",
       "name                       0.00\n",
       "homepage_url               3.67\n",
       "category_list              0.00\n",
       "status                     0.00\n",
       "country_code               0.00\n",
       "state_code                 1.96\n",
       "region                     1.34\n",
       "city                       1.33\n",
       "dtype: float64"
      ]
     },
     "execution_count": 22,
     "metadata": {},
     "output_type": "execute_result"
    }
   ],
   "source": [
    "#calculate percentage of missing value\n",
    "round(100*(master_frame.isnull().sum()/len(master_frame.index)), 2)"
   ]
  },
  {
   "cell_type": "code",
   "execution_count": 23,
   "id": "ac9f903d",
   "metadata": {
    "scrolled": true
   },
   "outputs": [
    {
     "data": {
      "text/plain": [
       "94589     4\n",
       "64844     4\n",
       "82318     4\n",
       "112216    4\n",
       "5862      4\n",
       "         ..\n",
       "39162     0\n",
       "39161     0\n",
       "39160     0\n",
       "39158     0\n",
       "114947    0\n",
       "Length: 88529, dtype: int64"
      ]
     },
     "execution_count": 23,
     "metadata": {},
     "output_type": "execute_result"
    }
   ],
   "source": [
    "#calculate sum of null in a row\n",
    "master_frame.isnull().sum(axis=1).sort_values(ascending=False)"
   ]
  },
  {
   "cell_type": "code",
   "execution_count": 24,
   "id": "afaec73d",
   "metadata": {
    "scrolled": false
   },
   "outputs": [
    {
     "data": {
      "text/html": [
       "<div>\n",
       "<style scoped>\n",
       "    .dataframe tbody tr th:only-of-type {\n",
       "        vertical-align: middle;\n",
       "    }\n",
       "\n",
       "    .dataframe tbody tr th {\n",
       "        vertical-align: top;\n",
       "    }\n",
       "\n",
       "    .dataframe thead th {\n",
       "        text-align: right;\n",
       "    }\n",
       "</style>\n",
       "<table border=\"1\" class=\"dataframe\">\n",
       "  <thead>\n",
       "    <tr style=\"text-align: right;\">\n",
       "      <th></th>\n",
       "      <th>company_permalink</th>\n",
       "      <th>funding_round_permalink</th>\n",
       "      <th>funding_round_type</th>\n",
       "      <th>funded_at</th>\n",
       "      <th>raised_amount_usd</th>\n",
       "      <th>name</th>\n",
       "      <th>homepage_url</th>\n",
       "      <th>category_list</th>\n",
       "      <th>status</th>\n",
       "      <th>country_code</th>\n",
       "      <th>state_code</th>\n",
       "      <th>region</th>\n",
       "      <th>city</th>\n",
       "    </tr>\n",
       "  </thead>\n",
       "  <tbody>\n",
       "    <tr>\n",
       "      <th>5862</th>\n",
       "      <td>/organization/animating-touch</td>\n",
       "      <td>/funding-round/921a01019800b35cfc2fffa452f6c1fb</td>\n",
       "      <td>grant</td>\n",
       "      <td>01-03-2012</td>\n",
       "      <td>25000.0</td>\n",
       "      <td>Animating Touch</td>\n",
       "      <td>NaN</td>\n",
       "      <td>Mobile</td>\n",
       "      <td>closed</td>\n",
       "      <td>RUS</td>\n",
       "      <td>NaN</td>\n",
       "      <td>NaN</td>\n",
       "      <td>NaN</td>\n",
       "    </tr>\n",
       "    <tr>\n",
       "      <th>7493</th>\n",
       "      <td>/organization/argus</td>\n",
       "      <td>/funding-round/b781b21030387359319622265218a2ae</td>\n",
       "      <td>seed</td>\n",
       "      <td>23-06-2012</td>\n",
       "      <td>167000.0</td>\n",
       "      <td>Argus</td>\n",
       "      <td>NaN</td>\n",
       "      <td>Hardware|Software</td>\n",
       "      <td>operating</td>\n",
       "      <td>RUS</td>\n",
       "      <td>NaN</td>\n",
       "      <td>NaN</td>\n",
       "      <td>NaN</td>\n",
       "    </tr>\n",
       "    <tr>\n",
       "      <th>8674</th>\n",
       "      <td>/organization/audacious</td>\n",
       "      <td>/funding-round/f651dac5d60d960cce6f63ca5217dd96</td>\n",
       "      <td>venture</td>\n",
       "      <td>09-08-2011</td>\n",
       "      <td>163406.0</td>\n",
       "      <td>Audacious</td>\n",
       "      <td>NaN</td>\n",
       "      <td>Curated Web</td>\n",
       "      <td>operating</td>\n",
       "      <td>GBR</td>\n",
       "      <td>NaN</td>\n",
       "      <td>NaN</td>\n",
       "      <td>NaN</td>\n",
       "    </tr>\n",
       "    <tr>\n",
       "      <th>11155</th>\n",
       "      <td>/organization/beliaa</td>\n",
       "      <td>/funding-round/08d6a0e416fd90a443747cda0a936533</td>\n",
       "      <td>seed</td>\n",
       "      <td>07-07-2014</td>\n",
       "      <td>10198.0</td>\n",
       "      <td>Beliaa</td>\n",
       "      <td>NaN</td>\n",
       "      <td>Apps|Automotive|Cars|Innovation Management|Mec...</td>\n",
       "      <td>operating</td>\n",
       "      <td>EGY</td>\n",
       "      <td>NaN</td>\n",
       "      <td>NaN</td>\n",
       "      <td>NaN</td>\n",
       "    </tr>\n",
       "    <tr>\n",
       "      <th>15112</th>\n",
       "      <td>/organization/brightcove-k-k</td>\n",
       "      <td>/funding-round/3da48659b330a3d474c5afea90bc61c4</td>\n",
       "      <td>venture</td>\n",
       "      <td>22-05-2008</td>\n",
       "      <td>4900000.0</td>\n",
       "      <td>Brightcove K.K.</td>\n",
       "      <td>NaN</td>\n",
       "      <td>Games|Video</td>\n",
       "      <td>operating</td>\n",
       "      <td>JPN</td>\n",
       "      <td>NaN</td>\n",
       "      <td>NaN</td>\n",
       "      <td>NaN</td>\n",
       "    </tr>\n",
       "    <tr>\n",
       "      <th>18805</th>\n",
       "      <td>/organization/chamate</td>\n",
       "      <td>/funding-round/2993a357611c8245e2e85dfa9e5e2e1b</td>\n",
       "      <td>venture</td>\n",
       "      <td>15-12-2006</td>\n",
       "      <td>7500000.0</td>\n",
       "      <td>Chamate</td>\n",
       "      <td>NaN</td>\n",
       "      <td>Health and Wellness</td>\n",
       "      <td>operating</td>\n",
       "      <td>TWN</td>\n",
       "      <td>NaN</td>\n",
       "      <td>NaN</td>\n",
       "      <td>NaN</td>\n",
       "    </tr>\n",
       "    <tr>\n",
       "      <th>18806</th>\n",
       "      <td>/organization/chamate</td>\n",
       "      <td>/funding-round/6e613b12cbc82b9de662ebe55acd49a0</td>\n",
       "      <td>venture</td>\n",
       "      <td>01-09-2008</td>\n",
       "      <td>23000000.0</td>\n",
       "      <td>Chamate</td>\n",
       "      <td>NaN</td>\n",
       "      <td>Health and Wellness</td>\n",
       "      <td>operating</td>\n",
       "      <td>TWN</td>\n",
       "      <td>NaN</td>\n",
       "      <td>NaN</td>\n",
       "      <td>NaN</td>\n",
       "    </tr>\n",
       "    <tr>\n",
       "      <th>19915</th>\n",
       "      <td>/organization/citic-pharmaceuticals-co-ltd</td>\n",
       "      <td>/funding-round/d88e8225f35b435ef5513c12eac440f0</td>\n",
       "      <td>venture</td>\n",
       "      <td>01-12-2009</td>\n",
       "      <td>1000000.0</td>\n",
       "      <td>CITIC Pharmaceutical</td>\n",
       "      <td>NaN</td>\n",
       "      <td>Health Care</td>\n",
       "      <td>operating</td>\n",
       "      <td>CHN</td>\n",
       "      <td>NaN</td>\n",
       "      <td>NaN</td>\n",
       "      <td>NaN</td>\n",
       "    </tr>\n",
       "    <tr>\n",
       "      <th>19917</th>\n",
       "      <td>/organization/citic-pharmaceuticals-co-ltd</td>\n",
       "      <td>/funding-round/ecb8cf490b7d2d3a907688ed11c7f997</td>\n",
       "      <td>venture</td>\n",
       "      <td>01-04-2008</td>\n",
       "      <td>22100000.0</td>\n",
       "      <td>CITIC Pharmaceutical</td>\n",
       "      <td>NaN</td>\n",
       "      <td>Health Care</td>\n",
       "      <td>operating</td>\n",
       "      <td>CHN</td>\n",
       "      <td>NaN</td>\n",
       "      <td>NaN</td>\n",
       "      <td>NaN</td>\n",
       "    </tr>\n",
       "    <tr>\n",
       "      <th>23940</th>\n",
       "      <td>/organization/coupad</td>\n",
       "      <td>/funding-round/09af2437594be8f859db1f876d98f4ea</td>\n",
       "      <td>seed</td>\n",
       "      <td>23-06-2005</td>\n",
       "      <td>75000.0</td>\n",
       "      <td>Coupad</td>\n",
       "      <td>NaN</td>\n",
       "      <td>Consumer Goods</td>\n",
       "      <td>operating</td>\n",
       "      <td>USA</td>\n",
       "      <td>NaN</td>\n",
       "      <td>NaN</td>\n",
       "      <td>NaN</td>\n",
       "    </tr>\n",
       "  </tbody>\n",
       "</table>\n",
       "</div>"
      ],
      "text/plain": [
       "                                company_permalink  \\\n",
       "5862                /organization/animating-touch   \n",
       "7493                          /organization/argus   \n",
       "8674                      /organization/audacious   \n",
       "11155                        /organization/beliaa   \n",
       "15112                /organization/brightcove-k-k   \n",
       "18805                       /organization/chamate   \n",
       "18806                       /organization/chamate   \n",
       "19915  /organization/citic-pharmaceuticals-co-ltd   \n",
       "19917  /organization/citic-pharmaceuticals-co-ltd   \n",
       "23940                        /organization/coupad   \n",
       "\n",
       "                               funding_round_permalink funding_round_type  \\\n",
       "5862   /funding-round/921a01019800b35cfc2fffa452f6c1fb              grant   \n",
       "7493   /funding-round/b781b21030387359319622265218a2ae               seed   \n",
       "8674   /funding-round/f651dac5d60d960cce6f63ca5217dd96            venture   \n",
       "11155  /funding-round/08d6a0e416fd90a443747cda0a936533               seed   \n",
       "15112  /funding-round/3da48659b330a3d474c5afea90bc61c4            venture   \n",
       "18805  /funding-round/2993a357611c8245e2e85dfa9e5e2e1b            venture   \n",
       "18806  /funding-round/6e613b12cbc82b9de662ebe55acd49a0            venture   \n",
       "19915  /funding-round/d88e8225f35b435ef5513c12eac440f0            venture   \n",
       "19917  /funding-round/ecb8cf490b7d2d3a907688ed11c7f997            venture   \n",
       "23940  /funding-round/09af2437594be8f859db1f876d98f4ea               seed   \n",
       "\n",
       "        funded_at  raised_amount_usd                  name homepage_url  \\\n",
       "5862   01-03-2012            25000.0       Animating Touch          NaN   \n",
       "7493   23-06-2012           167000.0                 Argus          NaN   \n",
       "8674   09-08-2011           163406.0             Audacious          NaN   \n",
       "11155  07-07-2014            10198.0                Beliaa          NaN   \n",
       "15112  22-05-2008          4900000.0       Brightcove K.K.          NaN   \n",
       "18805  15-12-2006          7500000.0               Chamate          NaN   \n",
       "18806  01-09-2008         23000000.0               Chamate          NaN   \n",
       "19915  01-12-2009          1000000.0  CITIC Pharmaceutical          NaN   \n",
       "19917  01-04-2008         22100000.0  CITIC Pharmaceutical          NaN   \n",
       "23940  23-06-2005            75000.0                Coupad          NaN   \n",
       "\n",
       "                                           category_list     status  \\\n",
       "5862                                              Mobile     closed   \n",
       "7493                                   Hardware|Software  operating   \n",
       "8674                                         Curated Web  operating   \n",
       "11155  Apps|Automotive|Cars|Innovation Management|Mec...  operating   \n",
       "15112                                        Games|Video  operating   \n",
       "18805                                Health and Wellness  operating   \n",
       "18806                                Health and Wellness  operating   \n",
       "19915                                        Health Care  operating   \n",
       "19917                                        Health Care  operating   \n",
       "23940                                     Consumer Goods  operating   \n",
       "\n",
       "      country_code state_code region city  \n",
       "5862           RUS        NaN    NaN  NaN  \n",
       "7493           RUS        NaN    NaN  NaN  \n",
       "8674           GBR        NaN    NaN  NaN  \n",
       "11155          EGY        NaN    NaN  NaN  \n",
       "15112          JPN        NaN    NaN  NaN  \n",
       "18805          TWN        NaN    NaN  NaN  \n",
       "18806          TWN        NaN    NaN  NaN  \n",
       "19915          CHN        NaN    NaN  NaN  \n",
       "19917          CHN        NaN    NaN  NaN  \n",
       "23940          USA        NaN    NaN  NaN  "
      ]
     },
     "execution_count": 24,
     "metadata": {},
     "output_type": "execute_result"
    }
   ],
   "source": [
    "master_frame[master_frame.isnull().sum(axis=1) == 4].head(10)"
   ]
  },
  {
   "cell_type": "markdown",
   "id": "815a9dd4",
   "metadata": {},
   "source": [
    "From above output, we could able to understand. \"homepage_url\", \"sate_code\", \"region\" & \"city\" are major columns with Nan. if remove these rows that might affect our analysis, so not removing those rows. Instead we can remove those columns if required."
   ]
  },
  {
   "cell_type": "code",
   "execution_count": 25,
   "id": "f835efe8",
   "metadata": {},
   "outputs": [],
   "source": [
    "master_frame = master_frame.drop('homepage_url', axis=1)"
   ]
  },
  {
   "cell_type": "code",
   "execution_count": 26,
   "id": "0a0b916c",
   "metadata": {
    "scrolled": true
   },
   "outputs": [
    {
     "data": {
      "text/plain": [
       "company_permalink          0.00\n",
       "funding_round_permalink    0.00\n",
       "funding_round_type         0.00\n",
       "funded_at                  0.00\n",
       "raised_amount_usd          0.00\n",
       "name                       0.00\n",
       "category_list              0.00\n",
       "status                     0.00\n",
       "country_code               0.00\n",
       "state_code                 1.96\n",
       "region                     1.34\n",
       "city                       1.33\n",
       "dtype: float64"
      ]
     },
     "execution_count": 26,
     "metadata": {},
     "output_type": "execute_result"
    }
   ],
   "source": [
    "#calculate percentage of missing value\n",
    "round(100*(master_frame.isnull().sum()/len(master_frame.index)), 2)"
   ]
  },
  {
   "cell_type": "markdown",
   "id": "190f7624",
   "metadata": {},
   "source": [
    "###  Checkpoint 2: Funding Type Analysis"
   ]
  },
  {
   "cell_type": "code",
   "execution_count": 27,
   "id": "2cc146d2",
   "metadata": {
    "scrolled": true
   },
   "outputs": [
    {
     "name": "stdout",
     "output_type": "stream",
     "text": [
      "venture                  47809\n",
      "seed                     21095\n",
      "debt_financing            6506\n",
      "angel                     4400\n",
      "grant                     1939\n",
      "private_equity            1820\n",
      "undisclosed               1345\n",
      "convertible_note          1320\n",
      "equity_crowdfunding       1128\n",
      "post_ipo_equity            598\n",
      "product_crowdfunding       330\n",
      "post_ipo_debt              151\n",
      "non_equity_assistance       60\n",
      "secondary_market            28\n",
      "Name: funding_round_type, dtype: int64\n"
     ]
    }
   ],
   "source": [
    "#finding no of investments in each funding type\n",
    "funding_round_type_count = master_frame.funding_round_type.value_counts()\n",
    "print(funding_round_type_count)"
   ]
  },
  {
   "cell_type": "code",
   "execution_count": 28,
   "id": "e6be499d",
   "metadata": {
    "scrolled": true
   },
   "outputs": [
    {
     "data": {
      "image/png": "[encoded data removed]",
      "text/plain": [
       "<Figure size 432x288 with 1 Axes>"
      ]
     },
     "metadata": {},
     "output_type": "display_data"
    }
   ],
   "source": [
    "#ploted same using plot pie\n",
    "funding_round_type_count.loc[['venture','seed','angel','private_equity']].plot.pie(autopct=\"%.1f%%\",explode=[0.05]*4)\n",
    "plt.show()"
   ]
  },
  {
   "cell_type": "markdown",
   "id": "ab0d18c3",
   "metadata": {},
   "source": [
    "From above we can understand \"venture\" funding type is where most investors are investing."
   ]
  },
  {
   "cell_type": "code",
   "execution_count": 29,
   "id": "aafe7182",
   "metadata": {},
   "outputs": [
    {
     "data": {
      "text/plain": [
       "funding_round_type\n",
       "post_ipo_debt            1.694518e+08\n",
       "secondary_market         8.443853e+07\n",
       "private_equity           7.393849e+07\n",
       "post_ipo_equity          6.607706e+07\n",
       "debt_financing           1.716765e+07\n",
       "undisclosed              1.589166e+07\n",
       "venture                  1.172422e+07\n",
       "grant                    4.512698e+06\n",
       "product_crowdfunding     1.353227e+06\n",
       "convertible_note         1.337187e+06\n",
       "angel                    9.715739e+05\n",
       "seed                     7.477937e+05\n",
       "equity_crowdfunding      5.098980e+05\n",
       "non_equity_assistance    4.807534e+05\n",
       "Name: raised_amount_usd, dtype: float64"
      ]
     },
     "execution_count": 29,
     "metadata": {},
     "output_type": "execute_result"
    }
   ],
   "source": [
    "#finding mean for each funding type\n",
    "mean_by_funding_roundtype = master_frame.groupby('funding_round_type')['raised_amount_usd'].mean().sort_values(ascending=False)\n",
    "\n",
    "mean_by_funding_roundtype"
   ]
  },
  {
   "cell_type": "code",
   "execution_count": 30,
   "id": "46c1c649",
   "metadata": {
    "scrolled": true
   },
   "outputs": [
    {
     "name": "stdout",
     "output_type": "stream",
     "text": [
      "Representative funding amount of venture type --  11724223\n",
      "Representative funding amount of angel type --  971574\n",
      "Representative funding amount of seed type --  747794\n",
      "Representative funding amount of private equity type --  73938486\n"
     ]
    }
   ],
   "source": [
    "print(\"Representative funding amount of venture type -- \",round(mean_by_funding_roundtype['venture']))\n",
    "print(\"Representative funding amount of angel type -- \",round(mean_by_funding_roundtype['angel']))\n",
    "print(\"Representative funding amount of seed type -- \",round(mean_by_funding_roundtype['seed']))\n",
    "print(\"Representative funding amount of private equity type -- \",round(mean_by_funding_roundtype['private_equity']))"
   ]
  },
  {
   "cell_type": "code",
   "execution_count": 31,
   "id": "59bc928d",
   "metadata": {},
   "outputs": [
    {
     "name": "stdout",
     "output_type": "stream",
     "text": [
      "Does venture fund type satisfy the constrain 5 to 15 million USD ?  Yes\n"
     ]
    }
   ],
   "source": [
    "print(\"Does venture fund type satisfy the constrain 5 to 15 million USD ? \",\n",
    "     'Yes' if ((mean_by_funding_roundtype['venture'] > 5000000)  & (mean_by_funding_roundtype['venture'] < 15000000)) else 'No')"
   ]
  },
  {
   "cell_type": "code",
   "execution_count": 32,
   "id": "69a6d05b",
   "metadata": {},
   "outputs": [
    {
     "name": "stdout",
     "output_type": "stream",
     "text": [
      "Does private equity fund type satisfy the constrain 5 to 15 million USD ?  No\n"
     ]
    }
   ],
   "source": [
    "print(\"Does private equity fund type satisfy the constrain 5 to 15 million USD ? \",\n",
    "     'Yes' if ((mean_by_funding_roundtype['private_equity'] > 5000000)  & (mean_by_funding_roundtype['private_equity'] < 15000000)) else 'No')"
   ]
  },
  {
   "cell_type": "code",
   "execution_count": 33,
   "id": "031b85c3",
   "metadata": {},
   "outputs": [
    {
     "name": "stdout",
     "output_type": "stream",
     "text": [
      "Does angel fund type satisfy the constrain 5 to 15 million USD ?  No\n"
     ]
    }
   ],
   "source": [
    "print(\"Does angel fund type satisfy the constrain 5 to 15 million USD ? \",\n",
    "     'Yes' if ((mean_by_funding_roundtype['angel'] > 5000000)  & (mean_by_funding_roundtype['angel'] < 15000000)) else 'No')"
   ]
  },
  {
   "cell_type": "code",
   "execution_count": 34,
   "id": "0d1eed3d",
   "metadata": {},
   "outputs": [
    {
     "name": "stdout",
     "output_type": "stream",
     "text": [
      "Does seed fund type satisfy the constrain 5 to 15 million USD ?  No\n"
     ]
    }
   ],
   "source": [
    "print(\"Does seed fund type satisfy the constrain 5 to 15 million USD ? \",\n",
    "     'Yes' if ((mean_by_funding_roundtype['seed'] > 5000000)  & (mean_by_funding_roundtype['seed'] < 15000000)) else 'No')"
   ]
  },
  {
   "cell_type": "markdown",
   "id": "ec4c46ac",
   "metadata": {},
   "source": [
    "### Country Analysis"
   ]
  },
  {
   "cell_type": "code",
   "execution_count": 35,
   "id": "9005867e",
   "metadata": {},
   "outputs": [
    {
     "data": {
      "text/html": [
       "<div>\n",
       "<style scoped>\n",
       "    .dataframe tbody tr th:only-of-type {\n",
       "        vertical-align: middle;\n",
       "    }\n",
       "\n",
       "    .dataframe tbody tr th {\n",
       "        vertical-align: top;\n",
       "    }\n",
       "\n",
       "    .dataframe thead th {\n",
       "        text-align: right;\n",
       "    }\n",
       "</style>\n",
       "<table border=\"1\" class=\"dataframe\">\n",
       "  <thead>\n",
       "    <tr style=\"text-align: right;\">\n",
       "      <th></th>\n",
       "      <th>company_permalink</th>\n",
       "      <th>funding_round_permalink</th>\n",
       "      <th>funding_round_type</th>\n",
       "      <th>funded_at</th>\n",
       "      <th>raised_amount_usd</th>\n",
       "      <th>name</th>\n",
       "      <th>category_list</th>\n",
       "      <th>status</th>\n",
       "      <th>country_code</th>\n",
       "      <th>state_code</th>\n",
       "      <th>region</th>\n",
       "      <th>city</th>\n",
       "    </tr>\n",
       "  </thead>\n",
       "  <tbody>\n",
       "    <tr>\n",
       "      <th>0</th>\n",
       "      <td>/organization/-fame</td>\n",
       "      <td>/funding-round/9a01d05418af9f794eebff7ace91f638</td>\n",
       "      <td>venture</td>\n",
       "      <td>05-01-2015</td>\n",
       "      <td>10000000.0</td>\n",
       "      <td>#fame</td>\n",
       "      <td>Media</td>\n",
       "      <td>operating</td>\n",
       "      <td>IND</td>\n",
       "      <td>16</td>\n",
       "      <td>Mumbai</td>\n",
       "      <td>Mumbai</td>\n",
       "    </tr>\n",
       "    <tr>\n",
       "      <th>4</th>\n",
       "      <td>/organization/0-6-com</td>\n",
       "      <td>/funding-round/5727accaeaa57461bd22a9bdd945382d</td>\n",
       "      <td>venture</td>\n",
       "      <td>19-03-2008</td>\n",
       "      <td>2000000.0</td>\n",
       "      <td>0-6.com</td>\n",
       "      <td>Curated Web</td>\n",
       "      <td>operating</td>\n",
       "      <td>CHN</td>\n",
       "      <td>22</td>\n",
       "      <td>Beijing</td>\n",
       "      <td>Beijing</td>\n",
       "    </tr>\n",
       "    <tr>\n",
       "      <th>8</th>\n",
       "      <td>/organization/0ndine-biomedical-inc</td>\n",
       "      <td>/funding-round/954b9499724b946ad8c396a57a5f3b72</td>\n",
       "      <td>venture</td>\n",
       "      <td>21-12-2009</td>\n",
       "      <td>719491.0</td>\n",
       "      <td>Ondine Biomedical Inc.</td>\n",
       "      <td>Biotechnology</td>\n",
       "      <td>operating</td>\n",
       "      <td>CAN</td>\n",
       "      <td>BC</td>\n",
       "      <td>Vancouver</td>\n",
       "      <td>Vancouver</td>\n",
       "    </tr>\n",
       "    <tr>\n",
       "      <th>10</th>\n",
       "      <td>/organization/0xdata</td>\n",
       "      <td>/funding-round/3bb2ee4a2d89251a10aaa735b1180e44</td>\n",
       "      <td>venture</td>\n",
       "      <td>09-11-2015</td>\n",
       "      <td>20000000.0</td>\n",
       "      <td>H2O.ai</td>\n",
       "      <td>Analytics</td>\n",
       "      <td>operating</td>\n",
       "      <td>USA</td>\n",
       "      <td>CA</td>\n",
       "      <td>SF Bay Area</td>\n",
       "      <td>Mountain View</td>\n",
       "    </tr>\n",
       "    <tr>\n",
       "      <th>11</th>\n",
       "      <td>/organization/0xdata</td>\n",
       "      <td>/funding-round/ae2a174c06517c2394aed45006322a7e</td>\n",
       "      <td>venture</td>\n",
       "      <td>03-01-2013</td>\n",
       "      <td>1700000.0</td>\n",
       "      <td>H2O.ai</td>\n",
       "      <td>Analytics</td>\n",
       "      <td>operating</td>\n",
       "      <td>USA</td>\n",
       "      <td>CA</td>\n",
       "      <td>SF Bay Area</td>\n",
       "      <td>Mountain View</td>\n",
       "    </tr>\n",
       "  </tbody>\n",
       "</table>\n",
       "</div>"
      ],
      "text/plain": [
       "                      company_permalink  \\\n",
       "0                   /organization/-fame   \n",
       "4                 /organization/0-6-com   \n",
       "8   /organization/0ndine-biomedical-inc   \n",
       "10                 /organization/0xdata   \n",
       "11                 /organization/0xdata   \n",
       "\n",
       "                            funding_round_permalink funding_round_type  \\\n",
       "0   /funding-round/9a01d05418af9f794eebff7ace91f638            venture   \n",
       "4   /funding-round/5727accaeaa57461bd22a9bdd945382d            venture   \n",
       "8   /funding-round/954b9499724b946ad8c396a57a5f3b72            venture   \n",
       "10  /funding-round/3bb2ee4a2d89251a10aaa735b1180e44            venture   \n",
       "11  /funding-round/ae2a174c06517c2394aed45006322a7e            venture   \n",
       "\n",
       "     funded_at  raised_amount_usd                    name  category_list  \\\n",
       "0   05-01-2015         10000000.0                   #fame          Media   \n",
       "4   19-03-2008          2000000.0                 0-6.com    Curated Web   \n",
       "8   21-12-2009           719491.0  Ondine Biomedical Inc.  Biotechnology   \n",
       "10  09-11-2015         20000000.0                  H2O.ai      Analytics   \n",
       "11  03-01-2013          1700000.0                  H2O.ai      Analytics   \n",
       "\n",
       "       status country_code state_code       region           city  \n",
       "0   operating          IND         16       Mumbai         Mumbai  \n",
       "4   operating          CHN         22      Beijing        Beijing  \n",
       "8   operating          CAN         BC    Vancouver      Vancouver  \n",
       "10  operating          USA         CA  SF Bay Area  Mountain View  \n",
       "11  operating          USA         CA  SF Bay Area  Mountain View  "
      ]
     },
     "execution_count": 35,
     "metadata": {},
     "output_type": "execute_result"
    }
   ],
   "source": [
    "# Filter only venture funding round type for futher analysis\n",
    "venture_master_frame = master_frame.loc[master_frame.funding_round_type == 'venture']\n",
    "venture_master_frame.head()"
   ]
  },
  {
   "cell_type": "code",
   "execution_count": 36,
   "id": "2bbd664e",
   "metadata": {
    "scrolled": false
   },
   "outputs": [
    {
     "name": "stdout",
     "output_type": "stream",
     "text": [
      "country_code\n",
      "USA    4.200680e+11\n",
      "CHN    3.933892e+10\n",
      "GBR    2.007281e+10\n",
      "IND    1.426151e+10\n",
      "CAN    9.482218e+09\n",
      "FRA    7.226851e+09\n",
      "ISR    6.854350e+09\n",
      "DEU    6.306922e+09\n",
      "JPN    3.167647e+09\n",
      "Name: raised_amount_usd, dtype: float64\n"
     ]
    }
   ],
   "source": [
    "#Analysing the Top 3 English-Speaking Countries\n",
    "top_9_countries = venture_master_frame.groupby('country_code')['raised_amount_usd'].sum().round().sort_values(ascending = False)[:9]\n",
    "print(top_9_countries)"
   ]
  },
  {
   "cell_type": "markdown",
   "id": "5e348640",
   "metadata": {},
   "source": [
    "Referance: https://en.wikipedia.org/wiki/List_of_countries_and_territories_where_English_is_an_official_language\n",
    "\n",
    "#### USA, GRB, IND are top three countries investing in veture fund type"
   ]
  },
  {
   "cell_type": "code",
   "execution_count": 37,
   "id": "3b7e6d93",
   "metadata": {},
   "outputs": [
    {
     "data": {
      "text/html": [
       "<div>\n",
       "<style scoped>\n",
       "    .dataframe tbody tr th:only-of-type {\n",
       "        vertical-align: middle;\n",
       "    }\n",
       "\n",
       "    .dataframe tbody tr th {\n",
       "        vertical-align: top;\n",
       "    }\n",
       "\n",
       "    .dataframe thead th {\n",
       "        text-align: right;\n",
       "    }\n",
       "</style>\n",
       "<table border=\"1\" class=\"dataframe\">\n",
       "  <thead>\n",
       "    <tr style=\"text-align: right;\">\n",
       "      <th></th>\n",
       "      <th>company_permalink</th>\n",
       "      <th>funding_round_permalink</th>\n",
       "      <th>funding_round_type</th>\n",
       "      <th>funded_at</th>\n",
       "      <th>raised_amount_usd</th>\n",
       "      <th>name</th>\n",
       "      <th>category_list</th>\n",
       "      <th>status</th>\n",
       "      <th>country_code</th>\n",
       "      <th>state_code</th>\n",
       "      <th>region</th>\n",
       "      <th>city</th>\n",
       "    </tr>\n",
       "  </thead>\n",
       "  <tbody>\n",
       "    <tr>\n",
       "      <th>0</th>\n",
       "      <td>/organization/-fame</td>\n",
       "      <td>/funding-round/9a01d05418af9f794eebff7ace91f638</td>\n",
       "      <td>venture</td>\n",
       "      <td>05-01-2015</td>\n",
       "      <td>10000000.0</td>\n",
       "      <td>#fame</td>\n",
       "      <td>Media</td>\n",
       "      <td>operating</td>\n",
       "      <td>IND</td>\n",
       "      <td>16</td>\n",
       "      <td>Mumbai</td>\n",
       "      <td>Mumbai</td>\n",
       "    </tr>\n",
       "    <tr>\n",
       "      <th>10</th>\n",
       "      <td>/organization/0xdata</td>\n",
       "      <td>/funding-round/3bb2ee4a2d89251a10aaa735b1180e44</td>\n",
       "      <td>venture</td>\n",
       "      <td>09-11-2015</td>\n",
       "      <td>20000000.0</td>\n",
       "      <td>H2O.ai</td>\n",
       "      <td>Analytics</td>\n",
       "      <td>operating</td>\n",
       "      <td>USA</td>\n",
       "      <td>CA</td>\n",
       "      <td>SF Bay Area</td>\n",
       "      <td>Mountain View</td>\n",
       "    </tr>\n",
       "    <tr>\n",
       "      <th>11</th>\n",
       "      <td>/organization/0xdata</td>\n",
       "      <td>/funding-round/ae2a174c06517c2394aed45006322a7e</td>\n",
       "      <td>venture</td>\n",
       "      <td>03-01-2013</td>\n",
       "      <td>1700000.0</td>\n",
       "      <td>H2O.ai</td>\n",
       "      <td>Analytics</td>\n",
       "      <td>operating</td>\n",
       "      <td>USA</td>\n",
       "      <td>CA</td>\n",
       "      <td>SF Bay Area</td>\n",
       "      <td>Mountain View</td>\n",
       "    </tr>\n",
       "    <tr>\n",
       "      <th>12</th>\n",
       "      <td>/organization/0xdata</td>\n",
       "      <td>/funding-round/e1cfcbe1bdf4c70277c5f29a3482f24e</td>\n",
       "      <td>venture</td>\n",
       "      <td>19-07-2014</td>\n",
       "      <td>8900000.0</td>\n",
       "      <td>H2O.ai</td>\n",
       "      <td>Analytics</td>\n",
       "      <td>operating</td>\n",
       "      <td>USA</td>\n",
       "      <td>CA</td>\n",
       "      <td>SF Bay Area</td>\n",
       "      <td>Mountain View</td>\n",
       "    </tr>\n",
       "    <tr>\n",
       "      <th>22</th>\n",
       "      <td>/organization/1-mainstream</td>\n",
       "      <td>/funding-round/b952cbaf401f310927430c97b68162ea</td>\n",
       "      <td>venture</td>\n",
       "      <td>17-03-2015</td>\n",
       "      <td>5000000.0</td>\n",
       "      <td>1 Mainstream</td>\n",
       "      <td>Apps|Cable|Distribution|Software</td>\n",
       "      <td>acquired</td>\n",
       "      <td>USA</td>\n",
       "      <td>CA</td>\n",
       "      <td>SF Bay Area</td>\n",
       "      <td>Cupertino</td>\n",
       "    </tr>\n",
       "  </tbody>\n",
       "</table>\n",
       "</div>"
      ],
      "text/plain": [
       "             company_permalink  \\\n",
       "0          /organization/-fame   \n",
       "10        /organization/0xdata   \n",
       "11        /organization/0xdata   \n",
       "12        /organization/0xdata   \n",
       "22  /organization/1-mainstream   \n",
       "\n",
       "                            funding_round_permalink funding_round_type  \\\n",
       "0   /funding-round/9a01d05418af9f794eebff7ace91f638            venture   \n",
       "10  /funding-round/3bb2ee4a2d89251a10aaa735b1180e44            venture   \n",
       "11  /funding-round/ae2a174c06517c2394aed45006322a7e            venture   \n",
       "12  /funding-round/e1cfcbe1bdf4c70277c5f29a3482f24e            venture   \n",
       "22  /funding-round/b952cbaf401f310927430c97b68162ea            venture   \n",
       "\n",
       "     funded_at  raised_amount_usd          name  \\\n",
       "0   05-01-2015         10000000.0         #fame   \n",
       "10  09-11-2015         20000000.0        H2O.ai   \n",
       "11  03-01-2013          1700000.0        H2O.ai   \n",
       "12  19-07-2014          8900000.0        H2O.ai   \n",
       "22  17-03-2015          5000000.0  1 Mainstream   \n",
       "\n",
       "                       category_list     status country_code state_code  \\\n",
       "0                              Media  operating          IND         16   \n",
       "10                         Analytics  operating          USA         CA   \n",
       "11                         Analytics  operating          USA         CA   \n",
       "12                         Analytics  operating          USA         CA   \n",
       "22  Apps|Cable|Distribution|Software   acquired          USA         CA   \n",
       "\n",
       "         region           city  \n",
       "0        Mumbai         Mumbai  \n",
       "10  SF Bay Area  Mountain View  \n",
       "11  SF Bay Area  Mountain View  \n",
       "12  SF Bay Area  Mountain View  \n",
       "22  SF Bay Area      Cupertino  "
      ]
     },
     "execution_count": 37,
     "metadata": {},
     "output_type": "execute_result"
    }
   ],
   "source": [
    "# Filter only top 3 countries funding details for further analysis\n",
    "country_master_frame = venture_master_frame.loc[(venture_master_frame.country_code == 'USA')| (venture_master_frame.country_code == 'GBR') \n",
    "                         | (venture_master_frame.country_code == 'IND')]\n",
    "country_master_frame.head()\n"
   ]
  },
  {
   "cell_type": "markdown",
   "id": "4c07a7e0",
   "metadata": {},
   "source": [
    "# Checkpoint 4: Sector Analysis 1"
   ]
  },
  {
   "cell_type": "code",
   "execution_count": 38,
   "id": "ef7cce98",
   "metadata": {
    "scrolled": false
   },
   "outputs": [
    {
     "data": {
      "text/html": [
       "<div>\n",
       "<style scoped>\n",
       "    .dataframe tbody tr th:only-of-type {\n",
       "        vertical-align: middle;\n",
       "    }\n",
       "\n",
       "    .dataframe tbody tr th {\n",
       "        vertical-align: top;\n",
       "    }\n",
       "\n",
       "    .dataframe thead th {\n",
       "        text-align: right;\n",
       "    }\n",
       "</style>\n",
       "<table border=\"1\" class=\"dataframe\">\n",
       "  <thead>\n",
       "    <tr style=\"text-align: right;\">\n",
       "      <th></th>\n",
       "      <th>category_list</th>\n",
       "      <th>Automotive &amp; Sports</th>\n",
       "      <th>Blanks</th>\n",
       "      <th>Cleantech / Semiconductors</th>\n",
       "      <th>Entertainment</th>\n",
       "      <th>Health</th>\n",
       "      <th>Manufacturing</th>\n",
       "      <th>News, Search and Messaging</th>\n",
       "      <th>Others</th>\n",
       "      <th>Social, Finance, Analytics, Advertising</th>\n",
       "    </tr>\n",
       "  </thead>\n",
       "  <tbody>\n",
       "    <tr>\n",
       "      <th>0</th>\n",
       "      <td>NaN</td>\n",
       "      <td>0</td>\n",
       "      <td>1</td>\n",
       "      <td>0</td>\n",
       "      <td>0</td>\n",
       "      <td>0</td>\n",
       "      <td>0</td>\n",
       "      <td>0</td>\n",
       "      <td>0</td>\n",
       "      <td>0</td>\n",
       "    </tr>\n",
       "    <tr>\n",
       "      <th>1</th>\n",
       "      <td>3D</td>\n",
       "      <td>0</td>\n",
       "      <td>0</td>\n",
       "      <td>0</td>\n",
       "      <td>0</td>\n",
       "      <td>0</td>\n",
       "      <td>1</td>\n",
       "      <td>0</td>\n",
       "      <td>0</td>\n",
       "      <td>0</td>\n",
       "    </tr>\n",
       "    <tr>\n",
       "      <th>2</th>\n",
       "      <td>3D Printing</td>\n",
       "      <td>0</td>\n",
       "      <td>0</td>\n",
       "      <td>0</td>\n",
       "      <td>0</td>\n",
       "      <td>0</td>\n",
       "      <td>1</td>\n",
       "      <td>0</td>\n",
       "      <td>0</td>\n",
       "      <td>0</td>\n",
       "    </tr>\n",
       "    <tr>\n",
       "      <th>3</th>\n",
       "      <td>3D Technology</td>\n",
       "      <td>0</td>\n",
       "      <td>0</td>\n",
       "      <td>0</td>\n",
       "      <td>0</td>\n",
       "      <td>0</td>\n",
       "      <td>1</td>\n",
       "      <td>0</td>\n",
       "      <td>0</td>\n",
       "      <td>0</td>\n",
       "    </tr>\n",
       "    <tr>\n",
       "      <th>4</th>\n",
       "      <td>Accounting</td>\n",
       "      <td>0</td>\n",
       "      <td>0</td>\n",
       "      <td>0</td>\n",
       "      <td>0</td>\n",
       "      <td>0</td>\n",
       "      <td>0</td>\n",
       "      <td>0</td>\n",
       "      <td>0</td>\n",
       "      <td>1</td>\n",
       "    </tr>\n",
       "  </tbody>\n",
       "</table>\n",
       "</div>"
      ],
      "text/plain": [
       "   category_list  Automotive & Sports  Blanks  Cleantech / Semiconductors  \\\n",
       "0            NaN                    0       1                           0   \n",
       "1             3D                    0       0                           0   \n",
       "2    3D Printing                    0       0                           0   \n",
       "3  3D Technology                    0       0                           0   \n",
       "4     Accounting                    0       0                           0   \n",
       "\n",
       "   Entertainment  Health  Manufacturing  News, Search and Messaging  Others  \\\n",
       "0              0       0              0                           0       0   \n",
       "1              0       0              1                           0       0   \n",
       "2              0       0              1                           0       0   \n",
       "3              0       0              1                           0       0   \n",
       "4              0       0              0                           0       0   \n",
       "\n",
       "   Social, Finance, Analytics, Advertising  \n",
       "0                                        0  \n",
       "1                                        0  \n",
       "2                                        0  \n",
       "3                                        0  \n",
       "4                                        1  "
      ]
     },
     "execution_count": 38,
     "metadata": {},
     "output_type": "execute_result"
    }
   ],
   "source": [
    "#read mapping.csv\n",
    "mapping = pd.read_csv('mapping.csv')\n",
    "mapping.head()"
   ]
  },
  {
   "cell_type": "code",
   "execution_count": 39,
   "id": "8fc68dfa",
   "metadata": {},
   "outputs": [
    {
     "name": "stdout",
     "output_type": "stream",
     "text": [
      "<class 'pandas.core.frame.DataFrame'>\n",
      "RangeIndex: 688 entries, 0 to 687\n",
      "Data columns (total 10 columns):\n",
      " #   Column                                   Non-Null Count  Dtype \n",
      "---  ------                                   --------------  ----- \n",
      " 0   category_list                            687 non-null    object\n",
      " 1   Automotive & Sports                      688 non-null    int64 \n",
      " 2   Blanks                                   688 non-null    int64 \n",
      " 3   Cleantech / Semiconductors               688 non-null    int64 \n",
      " 4   Entertainment                            688 non-null    int64 \n",
      " 5   Health                                   688 non-null    int64 \n",
      " 6   Manufacturing                            688 non-null    int64 \n",
      " 7   News, Search and Messaging               688 non-null    int64 \n",
      " 8   Others                                   688 non-null    int64 \n",
      " 9   Social, Finance, Analytics, Advertising  688 non-null    int64 \n",
      "dtypes: int64(9), object(1)\n",
      "memory usage: 53.9+ KB\n"
     ]
    }
   ],
   "source": [
    "#analyse columns of mapping\n",
    "mapping.info()"
   ]
  },
  {
   "cell_type": "code",
   "execution_count": 40,
   "id": "d8513375",
   "metadata": {},
   "outputs": [],
   "source": [
    "#convert \"category_list\" to string\n",
    "mapping.category_list = mapping.category_list.astype(str)"
   ]
  },
  {
   "cell_type": "code",
   "execution_count": 41,
   "id": "959ab117",
   "metadata": {},
   "outputs": [],
   "source": [
    "#I was getting error while finding category in mapping table, for example A0lytics, 0tural. so replaced '0' with 'na'\n",
    "mapping.category_list = mapping.category_list.apply(lambda category: category.replace('0','na').lower())"
   ]
  },
  {
   "cell_type": "code",
   "execution_count": 42,
   "id": "e135c767",
   "metadata": {},
   "outputs": [],
   "source": [
    "#deriving primary_sector column,by given buisness rule\n",
    "import sys\n",
    "\n",
    "if not sys.warnoptions:\n",
    "    import warnings\n",
    "    warnings.simplefilter(\"ignore\")\n",
    "    \n",
    "country_master_frame['primary_sector'] = country_master_frame.category_list.apply(lambda categories: categories.split('|')[0].lower())"
   ]
  },
  {
   "cell_type": "code",
   "execution_count": 43,
   "id": "5c06df3e",
   "metadata": {
    "scrolled": false
   },
   "outputs": [
    {
     "data": {
      "text/html": [
       "<div>\n",
       "<style scoped>\n",
       "    .dataframe tbody tr th:only-of-type {\n",
       "        vertical-align: middle;\n",
       "    }\n",
       "\n",
       "    .dataframe tbody tr th {\n",
       "        vertical-align: top;\n",
       "    }\n",
       "\n",
       "    .dataframe thead th {\n",
       "        text-align: right;\n",
       "    }\n",
       "</style>\n",
       "<table border=\"1\" class=\"dataframe\">\n",
       "  <thead>\n",
       "    <tr style=\"text-align: right;\">\n",
       "      <th></th>\n",
       "      <th>company_permalink</th>\n",
       "      <th>funding_round_permalink</th>\n",
       "      <th>funding_round_type</th>\n",
       "      <th>funded_at</th>\n",
       "      <th>raised_amount_usd</th>\n",
       "      <th>name</th>\n",
       "      <th>category_list</th>\n",
       "      <th>status</th>\n",
       "      <th>country_code</th>\n",
       "      <th>state_code</th>\n",
       "      <th>region</th>\n",
       "      <th>city</th>\n",
       "      <th>primary_sector</th>\n",
       "    </tr>\n",
       "  </thead>\n",
       "  <tbody>\n",
       "    <tr>\n",
       "      <th>0</th>\n",
       "      <td>/organization/-fame</td>\n",
       "      <td>/funding-round/9a01d05418af9f794eebff7ace91f638</td>\n",
       "      <td>venture</td>\n",
       "      <td>05-01-2015</td>\n",
       "      <td>10000000.0</td>\n",
       "      <td>#fame</td>\n",
       "      <td>Media</td>\n",
       "      <td>operating</td>\n",
       "      <td>IND</td>\n",
       "      <td>16</td>\n",
       "      <td>Mumbai</td>\n",
       "      <td>Mumbai</td>\n",
       "      <td>media</td>\n",
       "    </tr>\n",
       "    <tr>\n",
       "      <th>10</th>\n",
       "      <td>/organization/0xdata</td>\n",
       "      <td>/funding-round/3bb2ee4a2d89251a10aaa735b1180e44</td>\n",
       "      <td>venture</td>\n",
       "      <td>09-11-2015</td>\n",
       "      <td>20000000.0</td>\n",
       "      <td>H2O.ai</td>\n",
       "      <td>Analytics</td>\n",
       "      <td>operating</td>\n",
       "      <td>USA</td>\n",
       "      <td>CA</td>\n",
       "      <td>SF Bay Area</td>\n",
       "      <td>Mountain View</td>\n",
       "      <td>analytics</td>\n",
       "    </tr>\n",
       "    <tr>\n",
       "      <th>11</th>\n",
       "      <td>/organization/0xdata</td>\n",
       "      <td>/funding-round/ae2a174c06517c2394aed45006322a7e</td>\n",
       "      <td>venture</td>\n",
       "      <td>03-01-2013</td>\n",
       "      <td>1700000.0</td>\n",
       "      <td>H2O.ai</td>\n",
       "      <td>Analytics</td>\n",
       "      <td>operating</td>\n",
       "      <td>USA</td>\n",
       "      <td>CA</td>\n",
       "      <td>SF Bay Area</td>\n",
       "      <td>Mountain View</td>\n",
       "      <td>analytics</td>\n",
       "    </tr>\n",
       "    <tr>\n",
       "      <th>12</th>\n",
       "      <td>/organization/0xdata</td>\n",
       "      <td>/funding-round/e1cfcbe1bdf4c70277c5f29a3482f24e</td>\n",
       "      <td>venture</td>\n",
       "      <td>19-07-2014</td>\n",
       "      <td>8900000.0</td>\n",
       "      <td>H2O.ai</td>\n",
       "      <td>Analytics</td>\n",
       "      <td>operating</td>\n",
       "      <td>USA</td>\n",
       "      <td>CA</td>\n",
       "      <td>SF Bay Area</td>\n",
       "      <td>Mountain View</td>\n",
       "      <td>analytics</td>\n",
       "    </tr>\n",
       "    <tr>\n",
       "      <th>22</th>\n",
       "      <td>/organization/1-mainstream</td>\n",
       "      <td>/funding-round/b952cbaf401f310927430c97b68162ea</td>\n",
       "      <td>venture</td>\n",
       "      <td>17-03-2015</td>\n",
       "      <td>5000000.0</td>\n",
       "      <td>1 Mainstream</td>\n",
       "      <td>Apps|Cable|Distribution|Software</td>\n",
       "      <td>acquired</td>\n",
       "      <td>USA</td>\n",
       "      <td>CA</td>\n",
       "      <td>SF Bay Area</td>\n",
       "      <td>Cupertino</td>\n",
       "      <td>apps</td>\n",
       "    </tr>\n",
       "  </tbody>\n",
       "</table>\n",
       "</div>"
      ],
      "text/plain": [
       "             company_permalink  \\\n",
       "0          /organization/-fame   \n",
       "10        /organization/0xdata   \n",
       "11        /organization/0xdata   \n",
       "12        /organization/0xdata   \n",
       "22  /organization/1-mainstream   \n",
       "\n",
       "                            funding_round_permalink funding_round_type  \\\n",
       "0   /funding-round/9a01d05418af9f794eebff7ace91f638            venture   \n",
       "10  /funding-round/3bb2ee4a2d89251a10aaa735b1180e44            venture   \n",
       "11  /funding-round/ae2a174c06517c2394aed45006322a7e            venture   \n",
       "12  /funding-round/e1cfcbe1bdf4c70277c5f29a3482f24e            venture   \n",
       "22  /funding-round/b952cbaf401f310927430c97b68162ea            venture   \n",
       "\n",
       "     funded_at  raised_amount_usd          name  \\\n",
       "0   05-01-2015         10000000.0         #fame   \n",
       "10  09-11-2015         20000000.0        H2O.ai   \n",
       "11  03-01-2013          1700000.0        H2O.ai   \n",
       "12  19-07-2014          8900000.0        H2O.ai   \n",
       "22  17-03-2015          5000000.0  1 Mainstream   \n",
       "\n",
       "                       category_list     status country_code state_code  \\\n",
       "0                              Media  operating          IND         16   \n",
       "10                         Analytics  operating          USA         CA   \n",
       "11                         Analytics  operating          USA         CA   \n",
       "12                         Analytics  operating          USA         CA   \n",
       "22  Apps|Cable|Distribution|Software   acquired          USA         CA   \n",
       "\n",
       "         region           city primary_sector  \n",
       "0        Mumbai         Mumbai          media  \n",
       "10  SF Bay Area  Mountain View      analytics  \n",
       "11  SF Bay Area  Mountain View      analytics  \n",
       "12  SF Bay Area  Mountain View      analytics  \n",
       "22  SF Bay Area      Cupertino           apps  "
      ]
     },
     "execution_count": 43,
     "metadata": {},
     "output_type": "execute_result"
    }
   ],
   "source": [
    "country_master_frame.head()"
   ]
  },
  {
   "cell_type": "code",
   "execution_count": 44,
   "id": "b1f88b52",
   "metadata": {
    "scrolled": true
   },
   "outputs": [
    {
     "name": "stdout",
     "output_type": "stream",
     "text": [
      "<class 'pandas.core.frame.DataFrame'>\n",
      "Index: 688 entries, nan to young adults\n",
      "Data columns (total 9 columns):\n",
      " #   Column                                   Non-Null Count  Dtype\n",
      "---  ------                                   --------------  -----\n",
      " 0   Automotive & Sports                      688 non-null    int64\n",
      " 1   Blanks                                   688 non-null    int64\n",
      " 2   Cleantech / Semiconductors               688 non-null    int64\n",
      " 3   Entertainment                            688 non-null    int64\n",
      " 4   Health                                   688 non-null    int64\n",
      " 5   Manufacturing                            688 non-null    int64\n",
      " 6   News, Search and Messaging               688 non-null    int64\n",
      " 7   Others                                   688 non-null    int64\n",
      " 8   Social, Finance, Analytics, Advertising  688 non-null    int64\n",
      "dtypes: int64(9)\n",
      "memory usage: 53.8+ KB\n"
     ]
    }
   ],
   "source": [
    "#set index as category_list \n",
    "mapping.set_index('category_list', inplace=True)\n",
    "mapping.info()"
   ]
  },
  {
   "cell_type": "code",
   "execution_count": 45,
   "id": "9d292205",
   "metadata": {},
   "outputs": [
    {
     "data": {
      "text/plain": [
       "dict_keys(['Automotive & Sports', 'Blanks', 'Cleantech / Semiconductors', 'Entertainment', 'Health', 'Manufacturing', 'News, Search and Messaging', 'Others', 'Social, Finance, Analytics, Advertising'])"
      ]
     },
     "execution_count": 45,
     "metadata": {},
     "output_type": "execute_result"
    }
   ],
   "source": [
    "val = mapping.to_dict()\n",
    "val.keys()"
   ]
  },
  {
   "cell_type": "code",
   "execution_count": 46,
   "id": "885de222",
   "metadata": {},
   "outputs": [],
   "source": [
    "# converted mapping dataframe to dictionay withh key as primary_caategory and value as main sector\n",
    "res = {}\n",
    "for x in val.keys():\n",
    "    for key,value in val[x].items():\n",
    "        if value == 1 :\n",
    "            res[str(key).lower()] = x\n"
   ]
  },
  {
   "cell_type": "code",
   "execution_count": 47,
   "id": "5efdf335",
   "metadata": {
    "scrolled": true
   },
   "outputs": [],
   "source": [
    "#In above step while converting 0 to na,enterprise 2.0 converted to enterprise 2.na. so go error in below step.So converting back to enterprise 2.0 \n",
    "res['enterprise 2.0'] = res.pop('enterprise 2.na')"
   ]
  },
  {
   "cell_type": "code",
   "execution_count": 48,
   "id": "5e43afd7",
   "metadata": {
    "scrolled": true
   },
   "outputs": [
    {
     "data": {
      "text/plain": [
       "'Others'"
      ]
     },
     "execution_count": 48,
     "metadata": {},
     "output_type": "execute_result"
    }
   ],
   "source": [
    "res['enterprise 2.0']"
   ]
  },
  {
   "cell_type": "code",
   "execution_count": 49,
   "id": "282c3580",
   "metadata": {
    "scrolled": false
   },
   "outputs": [],
   "source": [
    "#create a column main_sector if primay category found in res dictionary\n",
    "import sys\n",
    "\n",
    "if not sys.warnoptions:\n",
    "    import warnings\n",
    "    warnings.simplefilter(\"ignore\")\n",
    "country_master_frame['main_sector'] = country_master_frame.primary_sector.apply(lambda primarySector : res[primarySector] if primarySector in res else np.nan ) \n",
    "\n"
   ]
  },
  {
   "cell_type": "code",
   "execution_count": 50,
   "id": "c817e05b",
   "metadata": {},
   "outputs": [
    {
     "data": {
      "text/html": [
       "<div>\n",
       "<style scoped>\n",
       "    .dataframe tbody tr th:only-of-type {\n",
       "        vertical-align: middle;\n",
       "    }\n",
       "\n",
       "    .dataframe tbody tr th {\n",
       "        vertical-align: top;\n",
       "    }\n",
       "\n",
       "    .dataframe thead th {\n",
       "        text-align: right;\n",
       "    }\n",
       "</style>\n",
       "<table border=\"1\" class=\"dataframe\">\n",
       "  <thead>\n",
       "    <tr style=\"text-align: right;\">\n",
       "      <th></th>\n",
       "      <th>company_permalink</th>\n",
       "      <th>funding_round_permalink</th>\n",
       "      <th>funding_round_type</th>\n",
       "      <th>funded_at</th>\n",
       "      <th>raised_amount_usd</th>\n",
       "      <th>name</th>\n",
       "      <th>category_list</th>\n",
       "      <th>status</th>\n",
       "      <th>country_code</th>\n",
       "      <th>state_code</th>\n",
       "      <th>region</th>\n",
       "      <th>city</th>\n",
       "      <th>primary_sector</th>\n",
       "      <th>main_sector</th>\n",
       "    </tr>\n",
       "  </thead>\n",
       "  <tbody>\n",
       "    <tr>\n",
       "      <th>20328</th>\n",
       "      <td>/organization/clean-vehicle-solutions</td>\n",
       "      <td>/funding-round/7b991c526219c2edff8789942215d93b</td>\n",
       "      <td>venture</td>\n",
       "      <td>26-02-2010</td>\n",
       "      <td>125000.0</td>\n",
       "      <td>Clean Vehicle Solutions</td>\n",
       "      <td>Natural Gas Uses|Service Providers|Services</td>\n",
       "      <td>operating</td>\n",
       "      <td>USA</td>\n",
       "      <td>NJ</td>\n",
       "      <td>Newark</td>\n",
       "      <td>East Brunswick</td>\n",
       "      <td>natural gas uses</td>\n",
       "      <td>NaN</td>\n",
       "    </tr>\n",
       "    <tr>\n",
       "      <th>28541</th>\n",
       "      <td>/organization/dolores-speech-products</td>\n",
       "      <td>/funding-round/ba7393d89b2a5ad0c076e2295794c4ce</td>\n",
       "      <td>venture</td>\n",
       "      <td>07-04-2015</td>\n",
       "      <td>250000.0</td>\n",
       "      <td>Dolores Speech Products</td>\n",
       "      <td>Adaptive Equipment|Innovation Management|Speec...</td>\n",
       "      <td>operating</td>\n",
       "      <td>USA</td>\n",
       "      <td>MA</td>\n",
       "      <td>Boston</td>\n",
       "      <td>Wellesley</td>\n",
       "      <td>adaptive equipment</td>\n",
       "      <td>NaN</td>\n",
       "    </tr>\n",
       "    <tr>\n",
       "      <th>35278</th>\n",
       "      <td>/organization/fia-formula-e</td>\n",
       "      <td>/funding-round/19a09624fcf806a4a64809462a4e391c</td>\n",
       "      <td>venture</td>\n",
       "      <td>15-05-2014</td>\n",
       "      <td>68569234.0</td>\n",
       "      <td>FIA Formula E</td>\n",
       "      <td>Racing</td>\n",
       "      <td>closed</td>\n",
       "      <td>GBR</td>\n",
       "      <td>F1</td>\n",
       "      <td>GBR - Other</td>\n",
       "      <td>Hammersmith</td>\n",
       "      <td>racing</td>\n",
       "      <td>NaN</td>\n",
       "    </tr>\n",
       "    <tr>\n",
       "      <th>36012</th>\n",
       "      <td>/organization/five-below</td>\n",
       "      <td>/funding-round/2a50c59492585ea4080fa67de755a442</td>\n",
       "      <td>venture</td>\n",
       "      <td>14-10-2010</td>\n",
       "      <td>194000000.0</td>\n",
       "      <td>Five Below</td>\n",
       "      <td>Specialty Retail</td>\n",
       "      <td>ipo</td>\n",
       "      <td>USA</td>\n",
       "      <td>PA</td>\n",
       "      <td>Philadelphia</td>\n",
       "      <td>Philadelphia</td>\n",
       "      <td>specialty retail</td>\n",
       "      <td>NaN</td>\n",
       "    </tr>\n",
       "    <tr>\n",
       "      <th>43506</th>\n",
       "      <td>/organization/healthtell</td>\n",
       "      <td>/funding-round/8edf7332fface9972541807a248690b3</td>\n",
       "      <td>venture</td>\n",
       "      <td>13-06-2014</td>\n",
       "      <td>9486929.0</td>\n",
       "      <td>HealthTell</td>\n",
       "      <td>Biotechnology and Semiconductor|Diagnostics|He...</td>\n",
       "      <td>operating</td>\n",
       "      <td>USA</td>\n",
       "      <td>CA</td>\n",
       "      <td>SF Bay Area</td>\n",
       "      <td>San Ramon</td>\n",
       "      <td>biotechnology and semiconductor</td>\n",
       "      <td>NaN</td>\n",
       "    </tr>\n",
       "    <tr>\n",
       "      <th>51816</th>\n",
       "      <td>/organization/justinmind</td>\n",
       "      <td>/funding-round/c6e9adcef86247dccf8418dc3e4b9a0b</td>\n",
       "      <td>venture</td>\n",
       "      <td>17-12-2007</td>\n",
       "      <td>862000.0</td>\n",
       "      <td>Justinmind</td>\n",
       "      <td>Rapidly Expanding|Software|Usability|User Expe...</td>\n",
       "      <td>operating</td>\n",
       "      <td>USA</td>\n",
       "      <td>CA</td>\n",
       "      <td>SF Bay Area</td>\n",
       "      <td>San Francisco</td>\n",
       "      <td>rapidly expanding</td>\n",
       "      <td>NaN</td>\n",
       "    </tr>\n",
       "    <tr>\n",
       "      <th>70078</th>\n",
       "      <td>/organization/omega-point-research</td>\n",
       "      <td>/funding-round/4870743e3fded9317f5611eb2e848667</td>\n",
       "      <td>venture</td>\n",
       "      <td>14-05-2015</td>\n",
       "      <td>3172815.0</td>\n",
       "      <td>Omega Point Research</td>\n",
       "      <td>Product Search</td>\n",
       "      <td>closed</td>\n",
       "      <td>USA</td>\n",
       "      <td>CA</td>\n",
       "      <td>SF Bay Area</td>\n",
       "      <td>Los Altos</td>\n",
       "      <td>product search</td>\n",
       "      <td>NaN</td>\n",
       "    </tr>\n",
       "    <tr>\n",
       "      <th>87657</th>\n",
       "      <td>/organization/sense-labs-inc-</td>\n",
       "      <td>/funding-round/1ed09dae5b9feaba2ae7f56dd1b9bfd2</td>\n",
       "      <td>venture</td>\n",
       "      <td>29-12-2014</td>\n",
       "      <td>2499999.0</td>\n",
       "      <td>Sense</td>\n",
       "      <td>GreenTech|Hardware|Home Automation|Internet of...</td>\n",
       "      <td>operating</td>\n",
       "      <td>USA</td>\n",
       "      <td>MA</td>\n",
       "      <td>Boston</td>\n",
       "      <td>Cambridge</td>\n",
       "      <td>greentech</td>\n",
       "      <td>NaN</td>\n",
       "    </tr>\n",
       "    <tr>\n",
       "      <th>88384</th>\n",
       "      <td>/organization/shantiniketan-incorporated</td>\n",
       "      <td>/funding-round/96f7fa1fdcc380649723c8effc2a1062</td>\n",
       "      <td>venture</td>\n",
       "      <td>01-08-2008</td>\n",
       "      <td>1100000.0</td>\n",
       "      <td>ShantiNiketan Inc.</td>\n",
       "      <td>Retirement</td>\n",
       "      <td>closed</td>\n",
       "      <td>USA</td>\n",
       "      <td>FL</td>\n",
       "      <td>Orlando</td>\n",
       "      <td>Tavares</td>\n",
       "      <td>retirement</td>\n",
       "      <td>NaN</td>\n",
       "    </tr>\n",
       "    <tr>\n",
       "      <th>88385</th>\n",
       "      <td>/organization/shantiniketan-incorporated</td>\n",
       "      <td>/funding-round/c6baca436fa80360921d89a06a0a0e93</td>\n",
       "      <td>venture</td>\n",
       "      <td>01-05-2011</td>\n",
       "      <td>2000000.0</td>\n",
       "      <td>ShantiNiketan Inc.</td>\n",
       "      <td>Retirement</td>\n",
       "      <td>closed</td>\n",
       "      <td>USA</td>\n",
       "      <td>FL</td>\n",
       "      <td>Orlando</td>\n",
       "      <td>Tavares</td>\n",
       "      <td>retirement</td>\n",
       "      <td>NaN</td>\n",
       "    </tr>\n",
       "    <tr>\n",
       "      <th>106150</th>\n",
       "      <td>/organization/velocomp</td>\n",
       "      <td>/funding-round/2cdceb89206aad240a78e58329cec171</td>\n",
       "      <td>venture</td>\n",
       "      <td>09-09-2011</td>\n",
       "      <td>1420000.0</td>\n",
       "      <td>Velocomp</td>\n",
       "      <td>Adaptive Equipment|Sporting Goods</td>\n",
       "      <td>operating</td>\n",
       "      <td>USA</td>\n",
       "      <td>FL</td>\n",
       "      <td>Palm Beaches</td>\n",
       "      <td>Boca Raton</td>\n",
       "      <td>adaptive equipment</td>\n",
       "      <td>NaN</td>\n",
       "    </tr>\n",
       "  </tbody>\n",
       "</table>\n",
       "</div>"
      ],
      "text/plain": [
       "                               company_permalink  \\\n",
       "20328      /organization/clean-vehicle-solutions   \n",
       "28541      /organization/dolores-speech-products   \n",
       "35278                /organization/fia-formula-e   \n",
       "36012                   /organization/five-below   \n",
       "43506                   /organization/healthtell   \n",
       "51816                   /organization/justinmind   \n",
       "70078         /organization/omega-point-research   \n",
       "87657              /organization/sense-labs-inc-   \n",
       "88384   /organization/shantiniketan-incorporated   \n",
       "88385   /organization/shantiniketan-incorporated   \n",
       "106150                    /organization/velocomp   \n",
       "\n",
       "                                funding_round_permalink funding_round_type  \\\n",
       "20328   /funding-round/7b991c526219c2edff8789942215d93b            venture   \n",
       "28541   /funding-round/ba7393d89b2a5ad0c076e2295794c4ce            venture   \n",
       "35278   /funding-round/19a09624fcf806a4a64809462a4e391c            venture   \n",
       "36012   /funding-round/2a50c59492585ea4080fa67de755a442            venture   \n",
       "43506   /funding-round/8edf7332fface9972541807a248690b3            venture   \n",
       "51816   /funding-round/c6e9adcef86247dccf8418dc3e4b9a0b            venture   \n",
       "70078   /funding-round/4870743e3fded9317f5611eb2e848667            venture   \n",
       "87657   /funding-round/1ed09dae5b9feaba2ae7f56dd1b9bfd2            venture   \n",
       "88384   /funding-round/96f7fa1fdcc380649723c8effc2a1062            venture   \n",
       "88385   /funding-round/c6baca436fa80360921d89a06a0a0e93            venture   \n",
       "106150  /funding-round/2cdceb89206aad240a78e58329cec171            venture   \n",
       "\n",
       "         funded_at  raised_amount_usd                     name  \\\n",
       "20328   26-02-2010           125000.0  Clean Vehicle Solutions   \n",
       "28541   07-04-2015           250000.0  Dolores Speech Products   \n",
       "35278   15-05-2014         68569234.0            FIA Formula E   \n",
       "36012   14-10-2010        194000000.0               Five Below   \n",
       "43506   13-06-2014          9486929.0               HealthTell   \n",
       "51816   17-12-2007           862000.0               Justinmind   \n",
       "70078   14-05-2015          3172815.0     Omega Point Research   \n",
       "87657   29-12-2014          2499999.0                    Sense   \n",
       "88384   01-08-2008          1100000.0       ShantiNiketan Inc.   \n",
       "88385   01-05-2011          2000000.0       ShantiNiketan Inc.   \n",
       "106150  09-09-2011          1420000.0                 Velocomp   \n",
       "\n",
       "                                            category_list     status  \\\n",
       "20328         Natural Gas Uses|Service Providers|Services  operating   \n",
       "28541   Adaptive Equipment|Innovation Management|Speec...  operating   \n",
       "35278                                              Racing     closed   \n",
       "36012                                    Specialty Retail        ipo   \n",
       "43506   Biotechnology and Semiconductor|Diagnostics|He...  operating   \n",
       "51816   Rapidly Expanding|Software|Usability|User Expe...  operating   \n",
       "70078                                      Product Search     closed   \n",
       "87657   GreenTech|Hardware|Home Automation|Internet of...  operating   \n",
       "88384                                          Retirement     closed   \n",
       "88385                                          Retirement     closed   \n",
       "106150                  Adaptive Equipment|Sporting Goods  operating   \n",
       "\n",
       "       country_code state_code        region            city  \\\n",
       "20328           USA         NJ        Newark  East Brunswick   \n",
       "28541           USA         MA        Boston       Wellesley   \n",
       "35278           GBR         F1   GBR - Other     Hammersmith   \n",
       "36012           USA         PA  Philadelphia    Philadelphia   \n",
       "43506           USA         CA   SF Bay Area       San Ramon   \n",
       "51816           USA         CA   SF Bay Area   San Francisco   \n",
       "70078           USA         CA   SF Bay Area       Los Altos   \n",
       "87657           USA         MA        Boston       Cambridge   \n",
       "88384           USA         FL       Orlando         Tavares   \n",
       "88385           USA         FL       Orlando         Tavares   \n",
       "106150          USA         FL  Palm Beaches      Boca Raton   \n",
       "\n",
       "                         primary_sector main_sector  \n",
       "20328                  natural gas uses         NaN  \n",
       "28541                adaptive equipment         NaN  \n",
       "35278                            racing         NaN  \n",
       "36012                  specialty retail         NaN  \n",
       "43506   biotechnology and semiconductor         NaN  \n",
       "51816                 rapidly expanding         NaN  \n",
       "70078                    product search         NaN  \n",
       "87657                         greentech         NaN  \n",
       "88384                        retirement         NaN  \n",
       "88385                        retirement         NaN  \n",
       "106150               adaptive equipment         NaN  "
      ]
     },
     "execution_count": 50,
     "metadata": {},
     "output_type": "execute_result"
    }
   ],
   "source": [
    "#checking is na present in main_sector column\n",
    "country_master_frame.loc[country_master_frame['main_sector'].isna()]"
   ]
  },
  {
   "cell_type": "code",
   "execution_count": 51,
   "id": "0a202613",
   "metadata": {
    "scrolled": true
   },
   "outputs": [],
   "source": [
    "country_master_frame = country_master_frame.dropna(subset=['main_sector'])"
   ]
  },
  {
   "cell_type": "code",
   "execution_count": 52,
   "id": "6ce96d5a",
   "metadata": {
    "scrolled": true
   },
   "outputs": [
    {
     "data": {
      "text/plain": [
       "company_permalink          0.00\n",
       "funding_round_permalink    0.00\n",
       "funding_round_type         0.00\n",
       "funded_at                  0.00\n",
       "raised_amount_usd          0.00\n",
       "name                       0.00\n",
       "category_list              0.00\n",
       "status                     0.00\n",
       "country_code               0.00\n",
       "state_code                 0.19\n",
       "region                     0.40\n",
       "city                       0.40\n",
       "primary_sector             0.00\n",
       "main_sector                0.00\n",
       "dtype: float64"
      ]
     },
     "execution_count": 52,
     "metadata": {},
     "output_type": "execute_result"
    }
   ],
   "source": [
    "round(100*(country_master_frame.isnull().sum()/len(country_master_frame.index)), 2)"
   ]
  },
  {
   "cell_type": "markdown",
   "id": "9d8c1420",
   "metadata": {},
   "source": [
    "# Checkpoint 5: Sector Analysis 2"
   ]
  },
  {
   "cell_type": "markdown",
   "id": "02c2e6e4",
   "metadata": {},
   "source": [
    "Create three separate data frames D1, D2 and D3 for each of the three countries containing the observations of funding type FT falling within the 5-15 million USD range. The three data frames should contain all the columns of the master_frame along with the main sector and the primary sector. Using the three data frames, you can calculate the total number of investments and the total amount of investments in each main sector for each of the three countries.\n",
    "\n",
    "#### Note: In the following table, all the observations refer to investments of the type FT within 5-15 M USD range. "
   ]
  },
  {
   "cell_type": "code",
   "execution_count": 53,
   "id": "1dfef994",
   "metadata": {},
   "outputs": [],
   "source": [
    "#Filter data where investments of the venture type within 5-15 M USD range\n",
    "sector_main_frame = country_master_frame.loc[(country_master_frame.raised_amount_usd >= 5000000) & (country_master_frame.raised_amount_usd <= 15000000) ]"
   ]
  },
  {
   "cell_type": "code",
   "execution_count": 54,
   "id": "3e4cdc81",
   "metadata": {
    "scrolled": true
   },
   "outputs": [
    {
     "data": {
      "text/html": [
       "<div>\n",
       "<style scoped>\n",
       "    .dataframe tbody tr th:only-of-type {\n",
       "        vertical-align: middle;\n",
       "    }\n",
       "\n",
       "    .dataframe tbody tr th {\n",
       "        vertical-align: top;\n",
       "    }\n",
       "\n",
       "    .dataframe thead th {\n",
       "        text-align: right;\n",
       "    }\n",
       "</style>\n",
       "<table border=\"1\" class=\"dataframe\">\n",
       "  <thead>\n",
       "    <tr style=\"text-align: right;\">\n",
       "      <th></th>\n",
       "      <th>company_permalink</th>\n",
       "      <th>funding_round_permalink</th>\n",
       "      <th>funding_round_type</th>\n",
       "      <th>funded_at</th>\n",
       "      <th>raised_amount_usd</th>\n",
       "      <th>name</th>\n",
       "      <th>category_list</th>\n",
       "      <th>status</th>\n",
       "      <th>country_code</th>\n",
       "      <th>state_code</th>\n",
       "      <th>region</th>\n",
       "      <th>city</th>\n",
       "      <th>primary_sector</th>\n",
       "      <th>main_sector</th>\n",
       "    </tr>\n",
       "  </thead>\n",
       "  <tbody>\n",
       "    <tr>\n",
       "      <th>0</th>\n",
       "      <td>/organization/-fame</td>\n",
       "      <td>/funding-round/9a01d05418af9f794eebff7ace91f638</td>\n",
       "      <td>venture</td>\n",
       "      <td>05-01-2015</td>\n",
       "      <td>10000000.0</td>\n",
       "      <td>#fame</td>\n",
       "      <td>Media</td>\n",
       "      <td>operating</td>\n",
       "      <td>IND</td>\n",
       "      <td>16</td>\n",
       "      <td>Mumbai</td>\n",
       "      <td>Mumbai</td>\n",
       "      <td>media</td>\n",
       "      <td>Entertainment</td>\n",
       "    </tr>\n",
       "    <tr>\n",
       "      <th>12</th>\n",
       "      <td>/organization/0xdata</td>\n",
       "      <td>/funding-round/e1cfcbe1bdf4c70277c5f29a3482f24e</td>\n",
       "      <td>venture</td>\n",
       "      <td>19-07-2014</td>\n",
       "      <td>8900000.0</td>\n",
       "      <td>H2O.ai</td>\n",
       "      <td>Analytics</td>\n",
       "      <td>operating</td>\n",
       "      <td>USA</td>\n",
       "      <td>CA</td>\n",
       "      <td>SF Bay Area</td>\n",
       "      <td>Mountain View</td>\n",
       "      <td>analytics</td>\n",
       "      <td>Social, Finance, Analytics, Advertising</td>\n",
       "    </tr>\n",
       "    <tr>\n",
       "      <th>22</th>\n",
       "      <td>/organization/1-mainstream</td>\n",
       "      <td>/funding-round/b952cbaf401f310927430c97b68162ea</td>\n",
       "      <td>venture</td>\n",
       "      <td>17-03-2015</td>\n",
       "      <td>5000000.0</td>\n",
       "      <td>1 Mainstream</td>\n",
       "      <td>Apps|Cable|Distribution|Software</td>\n",
       "      <td>acquired</td>\n",
       "      <td>USA</td>\n",
       "      <td>CA</td>\n",
       "      <td>SF Bay Area</td>\n",
       "      <td>Cupertino</td>\n",
       "      <td>apps</td>\n",
       "      <td>News, Search and Messaging</td>\n",
       "    </tr>\n",
       "    <tr>\n",
       "      <th>103</th>\n",
       "      <td>/organization/128-technology</td>\n",
       "      <td>/funding-round/fb6216a30cb566ede89e0bee0623a634</td>\n",
       "      <td>venture</td>\n",
       "      <td>16-12-2014</td>\n",
       "      <td>11999347.0</td>\n",
       "      <td>128 Technology</td>\n",
       "      <td>Service Providers|Technology</td>\n",
       "      <td>operating</td>\n",
       "      <td>USA</td>\n",
       "      <td>MA</td>\n",
       "      <td>Boston</td>\n",
       "      <td>Burlington</td>\n",
       "      <td>service providers</td>\n",
       "      <td>Others</td>\n",
       "    </tr>\n",
       "    <tr>\n",
       "      <th>110</th>\n",
       "      <td>/organization/1366-technologies</td>\n",
       "      <td>/funding-round/424129ce1235cfab2655ee81305f7c2b</td>\n",
       "      <td>venture</td>\n",
       "      <td>15-10-2013</td>\n",
       "      <td>15000000.0</td>\n",
       "      <td>1366 Technologies</td>\n",
       "      <td>Manufacturing</td>\n",
       "      <td>operating</td>\n",
       "      <td>USA</td>\n",
       "      <td>MA</td>\n",
       "      <td>Boston</td>\n",
       "      <td>Bedford</td>\n",
       "      <td>manufacturing</td>\n",
       "      <td>Manufacturing</td>\n",
       "    </tr>\n",
       "  </tbody>\n",
       "</table>\n",
       "</div>"
      ],
      "text/plain": [
       "                   company_permalink  \\\n",
       "0                /organization/-fame   \n",
       "12              /organization/0xdata   \n",
       "22        /organization/1-mainstream   \n",
       "103     /organization/128-technology   \n",
       "110  /organization/1366-technologies   \n",
       "\n",
       "                             funding_round_permalink funding_round_type  \\\n",
       "0    /funding-round/9a01d05418af9f794eebff7ace91f638            venture   \n",
       "12   /funding-round/e1cfcbe1bdf4c70277c5f29a3482f24e            venture   \n",
       "22   /funding-round/b952cbaf401f310927430c97b68162ea            venture   \n",
       "103  /funding-round/fb6216a30cb566ede89e0bee0623a634            venture   \n",
       "110  /funding-round/424129ce1235cfab2655ee81305f7c2b            venture   \n",
       "\n",
       "      funded_at  raised_amount_usd               name  \\\n",
       "0    05-01-2015         10000000.0              #fame   \n",
       "12   19-07-2014          8900000.0             H2O.ai   \n",
       "22   17-03-2015          5000000.0       1 Mainstream   \n",
       "103  16-12-2014         11999347.0     128 Technology   \n",
       "110  15-10-2013         15000000.0  1366 Technologies   \n",
       "\n",
       "                        category_list     status country_code state_code  \\\n",
       "0                               Media  operating          IND         16   \n",
       "12                          Analytics  operating          USA         CA   \n",
       "22   Apps|Cable|Distribution|Software   acquired          USA         CA   \n",
       "103      Service Providers|Technology  operating          USA         MA   \n",
       "110                     Manufacturing  operating          USA         MA   \n",
       "\n",
       "          region           city     primary_sector  \\\n",
       "0         Mumbai         Mumbai              media   \n",
       "12   SF Bay Area  Mountain View          analytics   \n",
       "22   SF Bay Area      Cupertino               apps   \n",
       "103       Boston     Burlington  service providers   \n",
       "110       Boston        Bedford      manufacturing   \n",
       "\n",
       "                                 main_sector  \n",
       "0                              Entertainment  \n",
       "12   Social, Finance, Analytics, Advertising  \n",
       "22                News, Search and Messaging  \n",
       "103                                   Others  \n",
       "110                            Manufacturing  "
      ]
     },
     "execution_count": 54,
     "metadata": {},
     "output_type": "execute_result"
    }
   ],
   "source": [
    "sector_main_frame.head()"
   ]
  },
  {
   "cell_type": "code",
   "execution_count": 55,
   "id": "173d4c1b",
   "metadata": {},
   "outputs": [],
   "source": [
    "#groupby country code.. \n",
    "groupByCountry = sector_main_frame.groupby('country_code')"
   ]
  },
  {
   "cell_type": "code",
   "execution_count": 56,
   "id": "bd422531",
   "metadata": {
    "scrolled": false
   },
   "outputs": [
    {
     "data": {
      "text/plain": [
       "country_code\n",
       "USA    12063\n",
       "GBR      621\n",
       "IND      328\n",
       "Name: raised_amount_usd, dtype: int64"
      ]
     },
     "execution_count": 56,
     "metadata": {},
     "output_type": "execute_result"
    }
   ],
   "source": [
    "#Total number of Investments (count)\n",
    "groupByCountry['raised_amount_usd'].count().sort_values(ascending = False)"
   ]
  },
  {
   "cell_type": "markdown",
   "id": "4cdcbd30",
   "metadata": {},
   "source": [
    "https://seaborn.pydata.org/generated/seaborn.countplot.html \n",
    "\n",
    "\n",
    "https://stackoverflow.com/questions/43214978/seaborn-barplot-displaying-values"
   ]
  },
  {
   "cell_type": "code",
   "execution_count": 57,
   "id": "ce4a6161",
   "metadata": {
    "scrolled": true
   },
   "outputs": [
    {
     "data": {
      "image/png": "[encoded data removed]",
      "text/plain": [
       "<Figure size 720x360 with 1 Axes>"
      ]
     },
     "metadata": {
      "needs_background": "light"
     },
     "output_type": "display_data"
    }
   ],
   "source": [
    "plt.figure(figsize=(10,5))\n",
    "plt.title('Total number of Investments (count)')\n",
    "sns.set_theme(style=\"darkgrid\")\n",
    "ax = sns.countplot(x=sector_main_frame.country_code, data=sector_main_frame)\n",
    "for p in ax.patches:\n",
    "    ax.annotate('{:}'.format(p.get_height()), (p.get_x()+0.30, p.get_height()+1))\n"
   ]
  },
  {
   "cell_type": "code",
   "execution_count": 57,
   "id": "57654ae4",
   "metadata": {
    "scrolled": true
   },
   "outputs": [
    {
     "data": {
      "image/png": "[encoded data removed]",
      "text/plain": [
       "<Figure size 720x360 with 1 Axes>"
      ]
     },
     "metadata": {
      "needs_background": "light"
     },
     "output_type": "display_data"
    }
   ],
   "source": [
    "plt.figure(figsize=(10,5))\n",
    "plt.title('Total number of Investments (count)')\n",
    "sns.set_theme(style=\"darkgrid\")\n",
    "ax = sns.countplot(x=sector_main_frame.country_code, data=sector_main_frame)\n",
    "for p in ax.patches:\n",
    "    ax.annotate('{:}'.format(p.get_height()), (p.get_x()+0.30, p.get_height()+1))\n"
   ]
  },
  {
   "cell_type": "code",
   "execution_count": 58,
   "id": "1b12698f",
   "metadata": {
    "scrolled": false
   },
   "outputs": [
    {
     "data": {
      "text/plain": [
       "country_code\n",
       "USA    107757097294\n",
       "GBR      5379078691\n",
       "IND      2949543602\n",
       "Name: raised_amount_usd, dtype: object"
      ]
     },
     "execution_count": 58,
     "metadata": {},
     "output_type": "execute_result"
    }
   ],
   "source": [
    "#Total amount of investment (USD)\n",
    "groupByCountry['raised_amount_usd'].sum().sort_values(ascending = False).apply(lambda x :'{:.0f}'.format(x) )"
   ]
  },
  {
   "cell_type": "code",
   "execution_count": 59,
   "id": "6f727e66",
   "metadata": {
    "scrolled": true
   },
   "outputs": [
    {
     "data": {
      "image/png": "[encoded data removed]",
      "text/plain": [
       "<Figure size 720x360 with 1 Axes>"
      ]
     },
     "metadata": {},
     "output_type": "display_data"
    }
   ],
   "source": [
    "plt.figure(figsize=(10,5))\n",
    "plt.title('Total amount of investment (USD)')\n",
    "sns.set_theme(style=\"darkgrid\")\n",
    "ax = sns.barplot(data=sector_main_frame, x='country_code',y='raised_amount_usd', estimator=np.sum)\n",
    "\n",
    "for p in ax.patches:\n",
    "    ax.annotate('{:}'.format(p.get_height()), (p.get_x()+0.15, p.get_height()))\n",
    "    "
   ]
  },
  {
   "cell_type": "code",
   "execution_count": 60,
   "id": "5e761a27",
   "metadata": {
    "scrolled": true
   },
   "outputs": [],
   "source": [
    "#D1 data frame contains only 'USA'\n",
    "D1 = sector_main_frame.loc[sector_main_frame.country_code == 'USA']"
   ]
  },
  {
   "cell_type": "code",
   "execution_count": 61,
   "id": "f83d8e76",
   "metadata": {},
   "outputs": [],
   "source": [
    "#D2 data frame contains only 'GBR'\n",
    "D2 = sector_main_frame.loc[sector_main_frame.country_code == 'GBR']"
   ]
  },
  {
   "cell_type": "code",
   "execution_count": 62,
   "id": "f3dfeb02",
   "metadata": {},
   "outputs": [],
   "source": [
    "#D3 data frame contains only 'IND'\n",
    "D3 = sector_main_frame.loc[sector_main_frame.country_code == 'IND']"
   ]
  },
  {
   "cell_type": "code",
   "execution_count": 63,
   "id": "8f9d58e2",
   "metadata": {
    "scrolled": true
   },
   "outputs": [
    {
     "data": {
      "text/plain": [
       "main_sector\n",
       "Others                                     2950\n",
       "Social, Finance, Analytics, Advertising    2714\n",
       "Cleantech / Semiconductors                 2350\n",
       "News, Search and Messaging                 1583\n",
       "Health                                      909\n",
       "Manufacturing                               799\n",
       "Entertainment                               591\n",
       "Automotive & Sports                         167\n",
       "Name: raised_amount_usd, dtype: int64"
      ]
     },
     "execution_count": 63,
     "metadata": {},
     "output_type": "execute_result"
    }
   ],
   "source": [
    "#group by main sector in D1 ('USA data frame') to find count\n",
    "D1.groupby('main_sector')['raised_amount_usd'].count().sort_values(ascending = False)\n"
   ]
  },
  {
   "cell_type": "code",
   "execution_count": 64,
   "id": "5b5ee0fe",
   "metadata": {
    "scrolled": false
   },
   "outputs": [
    {
     "data": {
      "image/png": "[encoded data removed]",
      "text/plain": [
       "<Figure size 720x360 with 1 Axes>"
      ]
     },
     "metadata": {},
     "output_type": "display_data"
    }
   ],
   "source": [
    "plt.figure(figsize=(10,5))\n",
    "plt.title('USA Sector Wise Count')\n",
    "sns.set_theme(style=\"darkgrid\")\n",
    "ax = sns.countplot(y=D1.main_sector.sort_values(), data=D1,palette='viridis')\n",
    "\n",
    "for p in ax.patches:\n",
    "    ax.annotate('{:}'.format(p.get_width()), (p.get_width(), p.get_y()+0.50))"
   ]
  },
  {
   "cell_type": "markdown",
   "id": "ed788b0a",
   "metadata": {},
   "source": [
    "#### Top Sector name (no. of investment-wise) USA --- Others --- 2950\n",
    "#### Second Sector name (no. of investment-wise) USA --- Social, Finance, Analytics, Advertising --- 2714\n",
    "#### Third Sector name (no. of investment-wise) USA --- Cleantech / Semiconductors --- 2350"
   ]
  },
  {
   "cell_type": "code",
   "execution_count": 65,
   "id": "714927b1",
   "metadata": {
    "scrolled": false
   },
   "outputs": [
    {
     "data": {
      "text/plain": [
       "main_sector\n",
       "Others                                     147\n",
       "Social, Finance, Analytics, Advertising    133\n",
       "Cleantech / Semiconductors                 130\n",
       "News, Search and Messaging                  73\n",
       "Entertainment                               56\n",
       "Manufacturing                               42\n",
       "Health                                      24\n",
       "Automotive & Sports                         16\n",
       "Name: raised_amount_usd, dtype: int64"
      ]
     },
     "execution_count": 65,
     "metadata": {},
     "output_type": "execute_result"
    }
   ],
   "source": [
    "#group by main sector in D2 ('GBR data frame') to find count\n",
    "D2.groupby('main_sector')['raised_amount_usd'].count().sort_values(ascending = False)"
   ]
  },
  {
   "cell_type": "code",
   "execution_count": 66,
   "id": "78022c3a",
   "metadata": {
    "scrolled": true
   },
   "outputs": [
    {
     "data": {
      "image/png": "[encoded data removed]",
      "text/plain": [
       "<Figure size 720x360 with 1 Axes>"
      ]
     },
     "metadata": {},
     "output_type": "display_data"
    }
   ],
   "source": [
    "plt.figure(figsize=(10,5))\n",
    "plt.title('GBR Sector Wise Count')\n",
    "sns.set_theme(style=\"darkgrid\")\n",
    "ax = sns.countplot(y=D2.main_sector.sort_values(), data=D2,palette='viridis')\n",
    "\n",
    "for p in ax.patches:\n",
    "    ax.annotate('{:}'.format(p.get_width()), (p.get_width(), p.get_y()+0.50))"
   ]
  },
  {
   "cell_type": "markdown",
   "id": "f79b870f",
   "metadata": {},
   "source": [
    "#### Top Sector name (no. of investment-wise) GRB --- Others  --- 147\n",
    "#### Second Sector name (no. of investment-wise) GRB --- Social, Finance, Analytics, Advertising  --- 133\n",
    "#### Third Sector name (no. of investment-wise) GRB --- Cleantech / Semiconductors  --- 130"
   ]
  },
  {
   "cell_type": "code",
   "execution_count": 67,
   "id": "332718da",
   "metadata": {
    "scrolled": true
   },
   "outputs": [
    {
     "data": {
      "text/plain": [
       "main_sector\n",
       "Others                                     110\n",
       "Social, Finance, Analytics, Advertising     60\n",
       "News, Search and Messaging                  52\n",
       "Entertainment                               33\n",
       "Manufacturing                               21\n",
       "Cleantech / Semiconductors                  20\n",
       "Health                                      19\n",
       "Automotive & Sports                         13\n",
       "Name: raised_amount_usd, dtype: int64"
      ]
     },
     "execution_count": 67,
     "metadata": {},
     "output_type": "execute_result"
    }
   ],
   "source": [
    "#group by main sector in D3 ('IND data frame') to find count\n",
    "D3.groupby('main_sector')['raised_amount_usd'].count().sort_values(ascending = False)"
   ]
  },
  {
   "cell_type": "code",
   "execution_count": 68,
   "id": "6f25f9b7",
   "metadata": {
    "scrolled": false
   },
   "outputs": [
    {
     "data": {
      "image/png": "[encoded data removed]",
      "text/plain": [
       "<Figure size 720x360 with 1 Axes>"
      ]
     },
     "metadata": {},
     "output_type": "display_data"
    }
   ],
   "source": [
    "plt.figure(figsize=(10,5))\n",
    "plt.title('IND Sector Wise Count')\n",
    "sns.set_theme(style=\"darkgrid\")\n",
    "ax = sns.countplot(y=D3.main_sector.sort_values(), data=D3,palette='viridis')\n",
    "\n",
    "for p in ax.patches:\n",
    "    ax.annotate('{:}'.format(p.get_width()), (p.get_width(), p.get_y()+0.50))"
   ]
  },
  {
   "cell_type": "markdown",
   "id": "69edc146",
   "metadata": {},
   "source": [
    "#### Top Sector name (no. of investment-wise) IND --- Others --- 110\n",
    "#### Second Sector name (no. of investment-wise) IND --- Social, Finance, Analytics, Advertising --- 60\n",
    "#### Third Sector name (no. of investment-wise) IND --- News, Search and Messaging --- 52"
   ]
  },
  {
   "cell_type": "code",
   "execution_count": 69,
   "id": "9d67b673",
   "metadata": {},
   "outputs": [],
   "source": [
    "#group by main_sector and company permalink to find company recived highest investment\n",
    "d1_question_9 = D1.groupby(['main_sector','company_permalink'])['raised_amount_usd'].sum().sort_values(ascending = False)"
   ]
  },
  {
   "cell_type": "code",
   "execution_count": 70,
   "id": "f9fafb4f",
   "metadata": {
    "scrolled": false
   },
   "outputs": [
    {
     "data": {
      "text/plain": [
       "company_permalink\n",
       "/organization/virtustream            64300000.0\n",
       "/organization/capella                54968051.0\n",
       "/organization/airtight-networks      54201907.0\n",
       "/organization/decarta                52100000.0\n",
       "/organization/black-duck-software    51000000.0\n",
       "                                        ...    \n",
       "/organization/joinem                  5000000.0\n",
       "/organization/joya-communications     5000000.0\n",
       "/organization/arigo                   5000000.0\n",
       "/organization/kagera                  5000000.0\n",
       "/organization/kashless                5000000.0\n",
       "Name: raised_amount_usd, Length: 2049, dtype: float64"
      ]
     },
     "execution_count": 70,
     "metadata": {},
     "output_type": "execute_result"
    }
   ],
   "source": [
    "d1_question_9['Others']"
   ]
  },
  {
   "cell_type": "code",
   "execution_count": 71,
   "id": "d3a0e15c",
   "metadata": {},
   "outputs": [
    {
     "data": {
      "text/plain": [
       "'/organization/virtustream'"
      ]
     },
     "execution_count": 71,
     "metadata": {},
     "output_type": "execute_result"
    }
   ],
   "source": [
    "# For point 3 (top sector count-wise), which company received the highest investment in USA?\n",
    "d1_question_9['Others'].index[0]"
   ]
  },
  {
   "cell_type": "code",
   "execution_count": 72,
   "id": "f9508773",
   "metadata": {},
   "outputs": [],
   "source": [
    "d2_question_9 = D2.groupby(['main_sector','company_permalink'])['raised_amount_usd'].sum().sort_values(ascending = False)"
   ]
  },
  {
   "cell_type": "code",
   "execution_count": 73,
   "id": "7134edd6",
   "metadata": {
    "scrolled": true
   },
   "outputs": [
    {
     "data": {
      "text/plain": [
       "'/organization/electric-cloud'"
      ]
     },
     "execution_count": 73,
     "metadata": {},
     "output_type": "execute_result"
    }
   ],
   "source": [
    "# For point 3 (top sector count-wise), which company received the highest investment in GBR?\n",
    "d2_question_9['Others'].index[0]"
   ]
  },
  {
   "cell_type": "code",
   "execution_count": 74,
   "id": "d6a58ed6",
   "metadata": {},
   "outputs": [],
   "source": [
    "d3_question_9 = D3.groupby(['main_sector','company_permalink'])['raised_amount_usd'].sum().sort_values(ascending = False)"
   ]
  },
  {
   "cell_type": "code",
   "execution_count": 75,
   "id": "111173a9",
   "metadata": {},
   "outputs": [
    {
     "data": {
      "text/plain": [
       "'/organization/firstcry-com'"
      ]
     },
     "execution_count": 75,
     "metadata": {},
     "output_type": "execute_result"
    }
   ],
   "source": [
    "# For point 3 (top sector count-wise), which company received the highest investment in IND?\n",
    "d3_question_9['Others'].index[0]"
   ]
  },
  {
   "cell_type": "code",
   "execution_count": 76,
   "id": "97d20ea2",
   "metadata": {},
   "outputs": [
    {
     "data": {
      "text/plain": [
       "'/organization/shotspotter'"
      ]
     },
     "execution_count": 76,
     "metadata": {},
     "output_type": "execute_result"
    }
   ],
   "source": [
    "# For point 4 (second best sector count-wise), which company received the highest investment in USA?\n",
    "d1_question_9['Social, Finance, Analytics, Advertising'].index[0]"
   ]
  },
  {
   "cell_type": "code",
   "execution_count": 77,
   "id": "55629d47",
   "metadata": {},
   "outputs": [
    {
     "data": {
      "text/plain": [
       "'/organization/celltick-technologies'"
      ]
     },
     "execution_count": 77,
     "metadata": {},
     "output_type": "execute_result"
    }
   ],
   "source": [
    "# For point 4 (second best sector count-wise), which company received the highest investment in GBR?\n",
    "d2_question_9['Social, Finance, Analytics, Advertising'].index[0]"
   ]
  },
  {
   "cell_type": "code",
   "execution_count": 78,
   "id": "54427499",
   "metadata": {},
   "outputs": [
    {
     "data": {
      "text/plain": [
       "'/organization/manthan-systems'"
      ]
     },
     "execution_count": 78,
     "metadata": {},
     "output_type": "execute_result"
    }
   ],
   "source": [
    "# For point 4 (second best sector count-wise), which company received the highest investment in IND?\n",
    "d3_question_9['Social, Finance, Analytics, Advertising'].index[0]"
   ]
  },
  {
   "cell_type": "markdown",
   "id": "04aa5f7e",
   "metadata": {},
   "source": [
    "# Checkpoint 6: Plots\n",
    "\n",
    "As a final step, you have to present your findings to the CEO of Spark Funds. Specifically, she wants to see the following plots:\n",
    "\n"
   ]
  },
  {
   "cell_type": "markdown",
   "id": "4e3ff939",
   "metadata": {},
   "source": [
    "#### A plot showing the representative amount of investment in each funding type. This chart should make it clear that a certain funding type (FT) is best suited for Spark Funds.   "
   ]
  },
  {
   "cell_type": "code",
   "execution_count": 79,
   "id": "4b9d2b06",
   "metadata": {},
   "outputs": [],
   "source": [
    "selected_funds = mean_by_funding_roundtype[['seed','angel','venture','private_equity']]"
   ]
  },
  {
   "cell_type": "code",
   "execution_count": 80,
   "id": "992ba615",
   "metadata": {},
   "outputs": [
    {
     "data": {
      "image/png": "[encoded data removed]",
      "text/plain": [
       "<Figure size 1080x720 with 1 Axes>"
      ]
     },
     "metadata": {},
     "output_type": "display_data"
    }
   ],
   "source": [
    "plt.figure(figsize=(15,10))\n",
    "plt.title('Representative amount of investment in each funding type')\n",
    "sns.set_theme(style=\"darkgrid\")\n",
    "ax = sns.barplot(x =selected_funds, y=selected_funds.index,palette='viridis')\n",
    "\n",
    "for p in ax.patches:\n",
    "    ax.annotate('{:.2f}'.format(p.get_width()), (p.get_width(), p.get_y()+0.50))"
   ]
  },
  {
   "cell_type": "code",
   "execution_count": 81,
   "id": "0ad52e03",
   "metadata": {
    "scrolled": true
   },
   "outputs": [
    {
     "data": {
      "image/png": "[encoded data removed]",
      "text/plain": [
       "<Figure size 432x288 with 1 Axes>"
      ]
     },
     "metadata": {},
     "output_type": "display_data"
    }
   ],
   "source": [
    "# no of investment in percentage in pie plot\n",
    "ax = funding_round_type_count.loc[['venture','seed','angel','private_equity']].plot.pie(autopct=\"%.1f%%\",explode=[0.05]*4)\n",
    "plt.show()"
   ]
  },
  {
   "cell_type": "markdown",
   "id": "bbe3b670",
   "metadata": {},
   "source": [
    "#### A plot showing the top 9 countries against the total amount of investments of funding type FT. This should make the top 3 countries (Country 1, Country 2, and Country 3) very clear.   "
   ]
  },
  {
   "cell_type": "code",
   "execution_count": 82,
   "id": "b64bbd80",
   "metadata": {},
   "outputs": [],
   "source": [
    "English_speaking_country = top_9_countries.index.map(lambda country : country in ['USA','GBR','IND','CAN'])\n",
    "clrs = ['g' if x else 'r' for x in English_speaking_country ]"
   ]
  },
  {
   "cell_type": "code",
   "execution_count": 83,
   "id": "c43cb73b",
   "metadata": {},
   "outputs": [
    {
     "data": {
      "image/png": "[encoded data removed]",
      "text/plain": [
       "<Figure size 1080x720 with 1 Axes>"
      ]
     },
     "metadata": {},
     "output_type": "display_data"
    }
   ],
   "source": [
    "import matplotlib.patches as mpatches\n",
    "plt.figure(figsize=[15, 10])\n",
    "plt.title('Top 9 countries against the total amount of investments of funding type venture')\n",
    "sns.set_theme(style=\"darkgrid\")\n",
    "ax = sns.barplot(x =top_9_countries, y=top_9_countries.index, palette=clrs)\n",
    "\n",
    "\n",
    "red_patch = mpatches.Patch(color='g', label='Engish Speaking')\n",
    "green_patch = mpatches.Patch(color='r', label='Non Engish Speaking')\n",
    "\n",
    "\n",
    "plt.legend(handles=[red_patch,green_patch]  )\n",
    "\n",
    "for p in ax.patches:\n",
    "    ax.annotate('{:.0f}'.format(p.get_width()), (p.get_width(), p.get_y()+0.50))\n",
    "     \n",
    "    "
   ]
  },
  {
   "cell_type": "markdown",
   "id": "d79a509c",
   "metadata": {},
   "source": [
    "\n",
    "#### A plot showing the number of investments in the top 3 sectors of the top 3 countries on one chart (for the chosen investment type FT). This plot should clearly display the top 3 sectors each in Country 1, Country 2, and Country 3."
   ]
  },
  {
   "cell_type": "code",
   "execution_count": 84,
   "id": "81aae572",
   "metadata": {},
   "outputs": [],
   "source": [
    "sector_frame_groupby = sector_main_frame.groupby(['country_code','main_sector'])['country_code'].count().reset_index(name='count')\n",
    "  "
   ]
  },
  {
   "cell_type": "code",
   "execution_count": 85,
   "id": "984019df",
   "metadata": {},
   "outputs": [],
   "source": [
    "top_3_sectors_in_country = sector_frame_groupby.sort_values('count', ascending=False).groupby('country_code').head(3)"
   ]
  },
  {
   "cell_type": "code",
   "execution_count": 86,
   "id": "a81c0ead",
   "metadata": {},
   "outputs": [
    {
     "data": {
      "text/html": [
       "<style  type=\"text/css\" >\n",
       "</style><table id=\"T_90ad9_\" ><thead>    <tr>        <th class=\"col_heading level0 col0\" >country_code</th>        <th class=\"col_heading level0 col1\" >main_sector</th>        <th class=\"col_heading level0 col2\" >count</th>    </tr></thead><tbody>\n",
       "                <tr>\n",
       "                                <td id=\"T_90ad9_row0_col0\" class=\"data row0 col0\" >USA</td>\n",
       "                        <td id=\"T_90ad9_row0_col1\" class=\"data row0 col1\" >Others</td>\n",
       "                        <td id=\"T_90ad9_row0_col2\" class=\"data row0 col2\" >2950</td>\n",
       "            </tr>\n",
       "            <tr>\n",
       "                                <td id=\"T_90ad9_row1_col0\" class=\"data row1 col0\" >USA</td>\n",
       "                        <td id=\"T_90ad9_row1_col1\" class=\"data row1 col1\" >Social, Finance, Analytics, Advertising</td>\n",
       "                        <td id=\"T_90ad9_row1_col2\" class=\"data row1 col2\" >2714</td>\n",
       "            </tr>\n",
       "            <tr>\n",
       "                                <td id=\"T_90ad9_row2_col0\" class=\"data row2 col0\" >USA</td>\n",
       "                        <td id=\"T_90ad9_row2_col1\" class=\"data row2 col1\" >Cleantech / Semiconductors</td>\n",
       "                        <td id=\"T_90ad9_row2_col2\" class=\"data row2 col2\" >2350</td>\n",
       "            </tr>\n",
       "            <tr>\n",
       "                                <td id=\"T_90ad9_row3_col0\" class=\"data row3 col0\" >GBR</td>\n",
       "                        <td id=\"T_90ad9_row3_col1\" class=\"data row3 col1\" >Others</td>\n",
       "                        <td id=\"T_90ad9_row3_col2\" class=\"data row3 col2\" >147</td>\n",
       "            </tr>\n",
       "            <tr>\n",
       "                                <td id=\"T_90ad9_row4_col0\" class=\"data row4 col0\" >GBR</td>\n",
       "                        <td id=\"T_90ad9_row4_col1\" class=\"data row4 col1\" >Social, Finance, Analytics, Advertising</td>\n",
       "                        <td id=\"T_90ad9_row4_col2\" class=\"data row4 col2\" >133</td>\n",
       "            </tr>\n",
       "            <tr>\n",
       "                                <td id=\"T_90ad9_row5_col0\" class=\"data row5 col0\" >GBR</td>\n",
       "                        <td id=\"T_90ad9_row5_col1\" class=\"data row5 col1\" >Cleantech / Semiconductors</td>\n",
       "                        <td id=\"T_90ad9_row5_col2\" class=\"data row5 col2\" >130</td>\n",
       "            </tr>\n",
       "            <tr>\n",
       "                                <td id=\"T_90ad9_row6_col0\" class=\"data row6 col0\" >IND</td>\n",
       "                        <td id=\"T_90ad9_row6_col1\" class=\"data row6 col1\" >Others</td>\n",
       "                        <td id=\"T_90ad9_row6_col2\" class=\"data row6 col2\" >110</td>\n",
       "            </tr>\n",
       "            <tr>\n",
       "                                <td id=\"T_90ad9_row7_col0\" class=\"data row7 col0\" >IND</td>\n",
       "                        <td id=\"T_90ad9_row7_col1\" class=\"data row7 col1\" >Social, Finance, Analytics, Advertising</td>\n",
       "                        <td id=\"T_90ad9_row7_col2\" class=\"data row7 col2\" >60</td>\n",
       "            </tr>\n",
       "            <tr>\n",
       "                                <td id=\"T_90ad9_row8_col0\" class=\"data row8 col0\" >IND</td>\n",
       "                        <td id=\"T_90ad9_row8_col1\" class=\"data row8 col1\" >News, Search and Messaging</td>\n",
       "                        <td id=\"T_90ad9_row8_col2\" class=\"data row8 col2\" >52</td>\n",
       "            </tr>\n",
       "    </tbody></table>"
      ],
      "text/plain": [
       "<pandas.io.formats.style.Styler at 0x7fc0e7cd5d90>"
      ]
     },
     "execution_count": 86,
     "metadata": {},
     "output_type": "execute_result"
    }
   ],
   "source": [
    "\n",
    "top_3_sectors_in_country.style.hide_index()"
   ]
  },
  {
   "cell_type": "code",
   "execution_count": 87,
   "id": "e50b24be",
   "metadata": {},
   "outputs": [
    {
     "data": {
      "image/png": "[encoded data removed]",
      "text/plain": [
       "<Figure size 1080x720 with 1 Axes>"
      ]
     },
     "metadata": {},
     "output_type": "display_data"
    }
   ],
   "source": [
    "plt.figure(figsize=[15, 10])\n",
    "plt.title('The number of investments in the top 3 sectors of the top 3 countries')\n",
    "ax = sns.barplot(x='country_code',y = 'count',hue='main_sector', data=top_3_sectors_in_country)\n",
    "for p in ax.patches:\n",
    "    ax.annotate('{:.0f}'.format(p.get_height()), (p.get_x()+0.05, p.get_height()))  \n",
    "\n",
    "    \n"
   ]
  },
  {
   "cell_type": "code",
   "execution_count": null,
   "id": "65931db4",
   "metadata": {},
   "outputs": [],
   "source": []
  }
 ],
 "metadata": {
  "kernelspec": {
   "display_name": "Python 3",
   "language": "python",
   "name": "python3"
  },
  "language_info": {
   "codemirror_mode": {
    "name": "ipython",
    "version": 3
   },
   "file_extension": ".py",
   "mimetype": "text/x-python",
   "name": "python",
   "nbconvert_exporter": "python",
   "pygments_lexer": "ipython3",
   "version": "3.8.8"
  }
 },
 "nbformat": 4,
 "nbformat_minor": 5
}
